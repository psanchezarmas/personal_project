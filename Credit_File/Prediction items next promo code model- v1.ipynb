{
 "cells": [
  {
   "cell_type": "code",
   "execution_count": 1,
   "id": "dried-minnesota",
   "metadata": {
    "ExecuteTime": {
     "end_time": "2021-05-12T06:57:30.076399Z",
     "start_time": "2021-05-12T06:57:26.385505Z"
    }
   },
   "outputs": [],
   "source": [
    "import mysql.connector as mysql\n",
    "import pandas as pd\n",
    "import datetime as dt\n",
    "import numpy as np\n",
    "from scipy import optimize\n",
    "\n",
    "from datetime import datetime\n",
    "import numpy as np\n"
   ]
  },
  {
   "cell_type": "code",
   "execution_count": 2,
   "id": "false-signal",
   "metadata": {
    "ExecuteTime": {
     "end_time": "2021-05-12T06:57:30.434634Z",
     "start_time": "2021-05-12T06:57:30.081742Z"
    }
   },
   "outputs": [],
   "source": [
    "db = mysql.connect(host='127.0.0.1',\n",
    "                              port='3307',\n",
    "                              user='data',\n",
    "                              password='hola1234',\n",
    "                              database='pablito')"
   ]
  },
  {
   "cell_type": "code",
   "execution_count": null,
   "id": "cosmetic-treasurer",
   "metadata": {
    "ExecuteTime": {
     "end_time": "2021-05-11T14:23:34.420814Z",
     "start_time": "2021-05-11T14:23:34.410979Z"
    }
   },
   "outputs": [],
   "source": [
    "query_string = \"SELECT distinct a.id, \" \\\n",
    "                    \"DATE_FORMAT(registration_date,'%Y-%m-%d'), \" \\\n",
    "                    \"a.age, \" \\\n",
    "                    \"a.country_code, \" \\\n",
    "                    \"a.postal_code, \" \\\n",
    "                    \"a.city, \" \\\n",
    "                    \"b._promo_id_owncode \" \\\n",
    "                \"FROM lookiero.lake_user a \" \\\n",
    "                    \"inner join lookiero.users b \" \\\n",
    "                        \"on a.id = b._id and a.username = b.username \" \\\n",
    "                    \"inner join lookiero.lake_order c \" \\\n",
    "                        \"on c.user_id = a.id \" \\\n",
    "                \"where c.fraud_risk_auto_xo_pay2nok=0 \" \\\n",
    "                    \"AND date_checkout_done IS NOT NULL \" \\\n",
    "                    \"AND accounting_status<>'cancelled' \" \\\n",
    "                    \"AND c.date_cancelled is null \"\n",
    "               "
   ]
  },
  {
   "cell_type": "code",
   "execution_count": null,
   "id": "federal-census",
   "metadata": {
    "ExecuteTime": {
     "end_time": "2021-05-11T14:23:58.489605Z",
     "start_time": "2021-05-11T14:23:34.424801Z"
    }
   },
   "outputs": [],
   "source": [
    "mycursor = db.cursor()\n",
    "\n",
    "mycursor.execute(query_string)\n",
    "\n",
    "dimensions = mycursor.fetchall()\n",
    "\n",
    "dimensions = pd.DataFrame(dimensions)\n"
   ]
  },
  {
   "cell_type": "code",
   "execution_count": null,
   "id": "vulnerable-giving",
   "metadata": {
    "ExecuteTime": {
     "end_time": "2021-05-11T14:23:58.612028Z",
     "start_time": "2021-05-11T14:23:58.491570Z"
    }
   },
   "outputs": [],
   "source": [
    "dimensions = dimensions.rename(columns={0: 'id', 1: 'registration_date', 2: 'age', 3:'country', 4: 'postal_code', 5: 'city', 6: 'own_code' })\n",
    "\n",
    "dimensions # edad, país, last_price_range"
   ]
  },
  {
   "cell_type": "code",
   "execution_count": null,
   "id": "double-circular",
   "metadata": {
    "ExecuteTime": {
     "end_time": "2021-05-11T14:23:58.627934Z",
     "start_time": "2021-05-11T14:23:58.614125Z"
    }
   },
   "outputs": [],
   "source": [
    "# We need to get out all the orders with promo code. Once we got that, we need to check if customers made a second order\n",
    "# and if that order was done with a promo code or not. \n",
    "\n",
    "# Once we got the customers classified in this way, we can present the percentages. "
   ]
  },
  {
   "cell_type": "code",
   "execution_count": null,
   "id": "minor-wayne",
   "metadata": {
    "ExecuteTime": {
     "end_time": "2021-05-11T14:23:58.644040Z",
     "start_time": "2021-05-11T14:23:58.628895Z"
    }
   },
   "outputs": [],
   "source": [
    "# To do this, we call the orders and we order them. We put the next order in another column, so we can compare if the \n",
    "# promocode used lead to another order\n",
    "\n"
   ]
  },
  {
   "cell_type": "code",
   "execution_count": null,
   "id": "organized-spirit",
   "metadata": {
    "ExecuteTime": {
     "end_time": "2021-05-11T14:23:58.659876Z",
     "start_time": "2021-05-11T14:23:58.646034Z"
    }
   },
   "outputs": [],
   "source": [
    "query_string = \"select \" \\\n",
    "                    \"id, \" \\\n",
    "                    \"user_id,  \" \\\n",
    "                    \"promo_code,  \" \\\n",
    "                    \"date_created,  \" \\\n",
    "                    \"order_amount_net as aovn,  \" \\\n",
    "                    \"items_kept \" \\\n",
    "                \"from  lookiero.lake_order c \" \\\n",
    "                \"where c.fraud_risk_auto_xo_pay2nok=0  \" \\\n",
    "                    \"AND date_checkout_done IS NOT NULL  \" \\\n",
    "                    \"AND accounting_status<>'cancelled'  \" \\\n",
    "                    \"AND c.date_cancelled is null \" \\\n",
    "                \"order by user_id, date_created \"\n",
    "\n",
    "# \"creation_type \" \\"
   ]
  },
  {
   "cell_type": "code",
   "execution_count": null,
   "id": "adaptive-words",
   "metadata": {
    "ExecuteTime": {
     "end_time": "2021-05-11T14:24:19.025236Z",
     "start_time": "2021-05-11T14:23:58.662791Z"
    }
   },
   "outputs": [],
   "source": [
    "mycursor = db.cursor()\n",
    "\n",
    "mycursor.execute(query_string)\n",
    "\n",
    "orders = mycursor.fetchall()\n",
    "\n",
    "orders = pd.DataFrame(orders)"
   ]
  },
  {
   "cell_type": "code",
   "execution_count": null,
   "id": "ceramic-czech",
   "metadata": {
    "ExecuteTime": {
     "end_time": "2021-05-11T14:24:19.055702Z",
     "start_time": "2021-05-11T14:24:19.028396Z"
    }
   },
   "outputs": [],
   "source": [
    "orders"
   ]
  },
  {
   "cell_type": "code",
   "execution_count": null,
   "id": "normal-trail",
   "metadata": {
    "ExecuteTime": {
     "end_time": "2021-05-11T14:24:19.289418Z",
     "start_time": "2021-05-11T14:24:19.057590Z"
    }
   },
   "outputs": [],
   "source": [
    "orders = orders.rename(columns={0:'order_id', 1:'user_id', 2: 'promo_code', 3: 'date_created', 4: 'aovn', 5: 'items_kept'}).reset_index()\n",
    "\n",
    "orders['items_kept'] = orders['items_kept'].astype(int)"
   ]
  },
  {
   "cell_type": "code",
   "execution_count": null,
   "id": "collect-debut",
   "metadata": {
    "ExecuteTime": {
     "end_time": "2021-05-11T14:24:19.926162Z",
     "start_time": "2021-05-11T14:24:19.842453Z"
    }
   },
   "outputs": [],
   "source": [
    "orders_1 = orders\n",
    "\n",
    "orders_1 = orders_1.rename(columns={'promo_code': 'next_promo_code', 'date_created': 'next_date_created', 'last_user_frec': 'next_last_user_frec', \n",
    "                                    'aovn': 'next_aovn', 'items_kept': 'next_items_kept', 'creation_type': 'next_creation_type'}).reset_index(drop = True)\n"
   ]
  },
  {
   "cell_type": "code",
   "execution_count": null,
   "id": "artistic-spain",
   "metadata": {
    "ExecuteTime": {
     "end_time": "2021-05-11T14:24:20.050133Z",
     "start_time": "2021-05-11T14:24:20.019845Z"
    }
   },
   "outputs": [],
   "source": [
    "orders_1['index'] = orders_1['index'] - 1\n"
   ]
  },
  {
   "cell_type": "code",
   "execution_count": null,
   "id": "future-prerequisite",
   "metadata": {
    "ExecuteTime": {
     "end_time": "2021-05-11T14:24:21.027229Z",
     "start_time": "2021-05-11T14:24:20.145868Z"
    }
   },
   "outputs": [],
   "source": [
    "df = pd.merge(orders, orders_1, how = 'inner',  on=['index', 'user_id'])\n"
   ]
  },
  {
   "cell_type": "code",
   "execution_count": null,
   "id": "married-laptop",
   "metadata": {
    "ExecuteTime": {
     "end_time": "2021-05-11T14:30:52.164995Z",
     "start_time": "2021-05-11T14:30:52.154494Z"
    }
   },
   "outputs": [],
   "source": [
    "# Right now we are losing the customers that they did only one order and also we are not showing the last order as a row. \n",
    "# I can get the data of those by grouping by, then selecting only the ones that have been counted once."
   ]
  },
  {
   "cell_type": "code",
   "execution_count": null,
   "id": "iraqi-engineer",
   "metadata": {
    "ExecuteTime": {
     "end_time": "2021-05-11T14:30:52.540283Z",
     "start_time": "2021-05-11T14:30:52.167456Z"
    }
   },
   "outputs": [],
   "source": [
    "one_order = orders.groupby(['user_id'], as_index = True)['index'].count()\n",
    "\n",
    "one_order = one_order.reset_index().rename(columns={'index': 'user_id', 'index': 'user_count'})\n",
    "\n",
    "one_order = one_order[one_order.user_count == 1]\n",
    "\n",
    "one_order = pd.merge(orders, one_order, how = 'inner',  on=['user_id'])\n",
    "\n",
    "one_order['next_promo_code'] = None\n",
    "\n",
    "one_order['next_date_created'] = None\n",
    "\n",
    "one_order['next_aovn'] = 0 \n",
    "\n",
    "one_order['next_items_kept'] = 0\n",
    "\n",
    "one_order = one_order[['index', 'user_id', 'promo_code', 'date_created', 'aovn', 'items_kept', 'next_promo_code', 'next_date_created', 'next_aovn', 'next_items_kept']]\n",
    "\n",
    "one_order"
   ]
  },
  {
   "cell_type": "code",
   "execution_count": null,
   "id": "obvious-pharmacy",
   "metadata": {
    "ExecuteTime": {
     "end_time": "2021-05-11T14:30:55.284894Z",
     "start_time": "2021-05-11T14:30:52.542240Z"
    }
   },
   "outputs": [],
   "source": [
    "df = df.append(one_order)"
   ]
  },
  {
   "cell_type": "code",
   "execution_count": null,
   "id": "suburban-tiffany",
   "metadata": {
    "ExecuteTime": {
     "end_time": "2021-05-11T14:30:55.300165Z",
     "start_time": "2021-05-11T14:30:55.291786Z"
    },
    "scrolled": true
   },
   "outputs": [],
   "source": [
    "df.columns"
   ]
  },
  {
   "cell_type": "code",
   "execution_count": null,
   "id": "mature-owner",
   "metadata": {
    "ExecuteTime": {
     "end_time": "2021-05-11T14:30:55.315675Z",
     "start_time": "2021-05-11T14:30:55.303667Z"
    }
   },
   "outputs": [],
   "source": [
    "del(one_order)"
   ]
  },
  {
   "cell_type": "code",
   "execution_count": null,
   "id": "horizontal-declaration",
   "metadata": {
    "ExecuteTime": {
     "end_time": "2021-05-11T14:30:55.331639Z",
     "start_time": "2021-05-11T14:30:55.317629Z"
    }
   },
   "outputs": [],
   "source": [
    "# I need to solve how to get the last box. How, in the groping I need to get the counting > 1, and get the max date and that \n",
    "# the difference is not higher than let's say one year"
   ]
  },
  {
   "cell_type": "code",
   "execution_count": null,
   "id": "southeast-responsibility",
   "metadata": {
    "ExecuteTime": {
     "end_time": "2021-05-11T14:31:06.871411Z",
     "start_time": "2021-05-11T14:31:05.895764Z"
    }
   },
   "outputs": [],
   "source": [
    "last_order = orders.groupby(['user_id'], as_index = True)['index'].count()\n",
    "\n",
    "last_order = last_order.reset_index().rename(columns={'index': 'user_id', 'index': 'user_count'})\n",
    "\n",
    "last_order = last_order[last_order.user_count > 1]\n",
    "\n",
    "last_order = pd.merge(orders, last_order, how = 'inner',  on=['user_id'])\n",
    "\n",
    "last_order = last_order.groupby(['user_id'], as_index = False)['date_created'].max()\n",
    "\n",
    "last_order = pd.merge(orders, last_order, how = 'inner',  on=['user_id', 'date_created'])\n",
    "\n",
    "last_order['next_promo_code'] = None\n",
    "\n",
    "last_order['next_date_created'] = None\n",
    "\n",
    "last_order['next_aovn'] = 0 \n",
    "\n",
    "last_order['next_items_kept'] = 0\n",
    "\n",
    "last_order = last_order[['index', 'user_id', 'promo_code', 'date_created', 'aovn', 'items_kept', 'next_promo_code', 'next_date_created',  'next_aovn', 'next_items_kept']]\n"
   ]
  },
  {
   "cell_type": "code",
   "execution_count": null,
   "id": "regular-burden",
   "metadata": {
    "ExecuteTime": {
     "end_time": "2021-05-11T14:31:10.980630Z",
     "start_time": "2021-05-11T14:31:10.613766Z"
    }
   },
   "outputs": [],
   "source": [
    "df = df.append(last_order)"
   ]
  },
  {
   "cell_type": "code",
   "execution_count": null,
   "id": "fabulous-shape",
   "metadata": {
    "ExecuteTime": {
     "end_time": "2021-05-11T14:31:10.995810Z",
     "start_time": "2021-05-11T14:31:10.983805Z"
    }
   },
   "outputs": [],
   "source": [
    "del(last_order)"
   ]
  },
  {
   "cell_type": "code",
   "execution_count": null,
   "id": "solid-finland",
   "metadata": {
    "ExecuteTime": {
     "end_time": "2021-05-11T14:31:11.106529Z",
     "start_time": "2021-05-11T14:31:10.997769Z"
    }
   },
   "outputs": [],
   "source": [
    "df = df.rename(columns={'order_id_x':'order_id', 'order_id_y':'next_order_id'})"
   ]
  },
  {
   "cell_type": "code",
   "execution_count": null,
   "id": "higher-polymer",
   "metadata": {
    "ExecuteTime": {
     "end_time": "2021-05-11T14:31:23.240018Z",
     "start_time": "2021-05-11T14:31:22.992391Z"
    }
   },
   "outputs": [],
   "source": [
    "df = df[['user_id', 'order_id' , 'promo_code', 'date_created', 'aovn', 'items_kept', 'next_order_id', 'next_promo_code', 'next_date_created', 'next_aovn', 'next_items_kept']]"
   ]
  },
  {
   "cell_type": "code",
   "execution_count": null,
   "id": "featured-blake",
   "metadata": {
    "ExecuteTime": {
     "end_time": "2021-05-10T10:05:25.688853Z",
     "start_time": "2021-05-10T10:05:25.675868Z"
    }
   },
   "outputs": [],
   "source": [
    "# Ya tengo todos usuarios categorizados por su promo_code y su siguiente promocode. ¿Cómo sé si tiene un\n",
    "# siguiente promocode?  # ¿Si ha pasado suficiente tiempo? o debería excluir a aquellos que su caja sea anterior a un año. \n",
    "\n",
    "# Puedo decir que aquellas cajas que sean 1º o últimas y haya pasado más de 6 meses\n",
    "\n"
   ]
  },
  {
   "cell_type": "code",
   "execution_count": null,
   "id": "growing-outdoors",
   "metadata": {
    "ExecuteTime": {
     "end_time": "2021-05-11T14:31:26.924725Z",
     "start_time": "2021-05-11T14:31:26.820682Z"
    },
    "scrolled": false
   },
   "outputs": [],
   "source": [
    "\n",
    "df['today'] = datetime.today()\n",
    "\n",
    "df['delta_days'] = (df['today'] - df['date_created']).dt.days\n",
    "\n",
    "#df['next_promo_code'] = df['next_promo_code'].fillna('no_box')\n",
    "\n",
    "#df = df[df.delta_days > 90]\n"
   ]
  },
  {
   "cell_type": "code",
   "execution_count": null,
   "id": "limited-cedar",
   "metadata": {
    "ExecuteTime": {
     "end_time": "2021-05-10T09:32:27.243557Z",
     "start_time": "2021-05-10T09:32:27.229449Z"
    }
   },
   "outputs": [],
   "source": [
    "# Let's filter df.promocode is not null and not like LK%. In this way. To those, we will apply the number one. Ifelse, 0. we will \n",
    "# Apply the same to next_promo_code and check the correlation between both variables. "
   ]
  },
  {
   "cell_type": "code",
   "execution_count": null,
   "id": "danish-language",
   "metadata": {
    "ExecuteTime": {
     "end_time": "2021-05-11T14:31:28.903566Z",
     "start_time": "2021-05-11T14:31:28.724672Z"
    }
   },
   "outputs": [],
   "source": [
    "#df['promo_code'].loc[(df.promo_code.str.startswith('LK'))]\n",
    "\n",
    "df['promo_code'] = df['promo_code'].replace('', np.nan)\n",
    "\n",
    "df['next_promo_code'] = df['next_promo_code'].replace('', np.nan)\n",
    "\n",
    "#df['promo_code'] = df['promo_code'].replace(None, np.nan)\n",
    "\n",
    "\n",
    "# We cannot replace the none values of promocode, as it inputs the above values"
   ]
  },
  {
   "cell_type": "code",
   "execution_count": null,
   "id": "dutch-spain",
   "metadata": {
    "ExecuteTime": {
     "end_time": "2021-05-11T14:31:31.006705Z",
     "start_time": "2021-05-11T14:31:30.803504Z"
    }
   },
   "outputs": [],
   "source": [
    "df.promo_code.fillna(value=np.nan, inplace=True)\n",
    "\n",
    "df.next_promo_code.fillna(value=np.nan, inplace=True)\n",
    "\n",
    "df = df.reset_index(drop = True)"
   ]
  },
  {
   "cell_type": "code",
   "execution_count": null,
   "id": "applicable-advocacy",
   "metadata": {
    "ExecuteTime": {
     "end_time": "2021-05-11T14:31:33.117683Z",
     "start_time": "2021-05-11T14:31:33.108647Z"
    }
   },
   "outputs": [],
   "source": [
    "df.columns"
   ]
  },
  {
   "cell_type": "code",
   "execution_count": null,
   "id": "fitting-preliminary",
   "metadata": {
    "ExecuteTime": {
     "end_time": "2021-05-11T14:31:42.425801Z",
     "start_time": "2021-05-11T14:31:41.845634Z"
    }
   },
   "outputs": [],
   "source": [
    "df['filter_promo_code'] = df['promo_code'].isna()\n",
    "\n",
    "df1 = df[df.filter_promo_code == True]\n",
    "\n",
    "df1['promo_code_corr'] = 0\n",
    "\n",
    "df2 = df[df.filter_promo_code == False]\n",
    "\n",
    "df2['promo_code_corr'] = 1\n",
    "\n",
    "df = df1.append(df2)"
   ]
  },
  {
   "cell_type": "code",
   "execution_count": null,
   "id": "thirty-particular",
   "metadata": {
    "ExecuteTime": {
     "end_time": "2021-05-11T14:31:45.205730Z",
     "start_time": "2021-05-11T14:31:45.157729Z"
    }
   },
   "outputs": [],
   "source": [
    "del(df1, df2)"
   ]
  },
  {
   "cell_type": "code",
   "execution_count": null,
   "id": "clinical-origin",
   "metadata": {
    "ExecuteTime": {
     "end_time": "2021-05-11T14:31:47.795446Z",
     "start_time": "2021-05-11T14:31:47.028489Z"
    }
   },
   "outputs": [],
   "source": [
    "df['filter_next_promo_code'] = df['next_promo_code'].isna()\n",
    "\n",
    "df1 = df[df.filter_next_promo_code == True]\n",
    "\n",
    "df1['next_promo_code_corr'] = 0\n",
    "\n",
    "df2 = df[df.filter_next_promo_code == False]\n",
    "\n",
    "df2['next_promo_code_corr'] = 1\n",
    "\n",
    "df = df1.append(df2)"
   ]
  },
  {
   "cell_type": "code",
   "execution_count": null,
   "id": "wired-savings",
   "metadata": {
    "ExecuteTime": {
     "end_time": "2021-05-11T14:31:52.538789Z",
     "start_time": "2021-05-11T14:31:52.483663Z"
    }
   },
   "outputs": [],
   "source": [
    "del(df1, df2)"
   ]
  },
  {
   "cell_type": "code",
   "execution_count": null,
   "id": "elect-median",
   "metadata": {
    "ExecuteTime": {
     "end_time": "2021-05-11T14:32:10.664214Z",
     "start_time": "2021-05-11T14:32:10.212840Z"
    }
   },
   "outputs": [],
   "source": [
    "df = df[['user_id', 'order_id', 'promo_code', 'date_created', 'aovn', 'items_kept', 'next_order_id','next_promo_code', \n",
    "         'next_date_created', 'promo_code_corr', 'next_promo_code_corr', 'next_aovn', 'next_items_kept']].reset_index(drop = True)\n"
   ]
  },
  {
   "cell_type": "code",
   "execution_count": null,
   "id": "secure-creator",
   "metadata": {
    "ExecuteTime": {
     "end_time": "2021-05-11T14:32:29.585070Z",
     "start_time": "2021-05-11T14:32:29.364512Z"
    }
   },
   "outputs": [],
   "source": [
    "#df.groupby(['user_id'], as_index = False)['promo_code_corr'].count()\n",
    "\n",
    "clients = df.groupby('user_id').agg({'date_created':'count', \n",
    "                                     'promo_code_corr': 'sum'}).reset_index().rename(columns={'date_created':'count',\n",
    "                                                                                              'promo_code_corr':'sum_promo_code_corr'})\n",
    "\n",
    "clients['proportion'] = clients['sum_promo_code_corr'] / clients['count']\n",
    "\n",
    "clients = clients[['user_id', 'proportion']]"
   ]
  },
  {
   "cell_type": "code",
   "execution_count": null,
   "id": "revolutionary-neutral",
   "metadata": {
    "ExecuteTime": {
     "end_time": "2021-05-11T14:32:32.585174Z",
     "start_time": "2021-05-11T14:32:31.798742Z"
    }
   },
   "outputs": [],
   "source": [
    "df = pd.merge(df, clients, how = 'inner',  on=['user_id'])"
   ]
  },
  {
   "cell_type": "code",
   "execution_count": null,
   "id": "unlikely-africa",
   "metadata": {
    "ExecuteTime": {
     "end_time": "2021-05-11T14:32:38.712766Z",
     "start_time": "2021-05-11T14:32:38.068464Z"
    }
   },
   "outputs": [],
   "source": [
    "dimensions = dimensions[['id','age', 'country']].rename(columns={'id':'user_id'})\n",
    "\n",
    "df = pd.merge(df, dimensions, how = 'inner',  on=['user_id'])"
   ]
  },
  {
   "cell_type": "code",
   "execution_count": null,
   "id": "simple-walker",
   "metadata": {
    "ExecuteTime": {
     "end_time": "2021-05-11T14:32:38.743943Z",
     "start_time": "2021-05-11T14:32:38.714593Z"
    }
   },
   "outputs": [],
   "source": [
    "age_range = pd.read_csv('age_range.csv', sep = ';')\n",
    "\n",
    "age_range['merge_column'] = 0"
   ]
  },
  {
   "cell_type": "code",
   "execution_count": null,
   "id": "equal-marriage",
   "metadata": {
    "ExecuteTime": {
     "end_time": "2021-05-11T14:32:38.759999Z",
     "start_time": "2021-05-11T14:32:38.746873Z"
    }
   },
   "outputs": [],
   "source": [
    "# Now we got by country and age (if needed) the customers that are more likely to use a promotional code for an order. \n",
    "# The need comes now to check which customers are more likely to spend more money in each of the "
   ]
  },
  {
   "cell_type": "code",
   "execution_count": null,
   "id": "invisible-viking",
   "metadata": {
    "ExecuteTime": {
     "end_time": "2021-05-11T14:32:38.775520Z",
     "start_time": "2021-05-11T14:32:38.761503Z"
    }
   },
   "outputs": [],
   "source": [
    "# The question is, if I give a promocode to a customer, will she buy the next box without a promocode? with what probability?\n",
    "\n",
    "# the probability should be given with the historical data of her cohort or group"
   ]
  },
  {
   "cell_type": "code",
   "execution_count": null,
   "id": "beautiful-collective",
   "metadata": {
    "ExecuteTime": {
     "end_time": "2021-05-11T14:32:38.791596Z",
     "start_time": "2021-05-11T14:32:38.777484Z"
    }
   },
   "outputs": [],
   "source": [
    "# df['promo_code_corr'] = df.promo_code.notna()\n",
    "\n",
    "# df.groupby(['promo_code'], as_index = True)['user_id'].count()"
   ]
  },
  {
   "cell_type": "code",
   "execution_count": null,
   "id": "enormous-gamma",
   "metadata": {
    "ExecuteTime": {
     "end_time": "2021-05-11T14:32:40.721321Z",
     "start_time": "2021-05-11T14:32:38.798596Z"
    }
   },
   "outputs": [],
   "source": [
    "#df.sort_values(['user_id','date_created'])\n",
    "\n",
    "first_box = df.groupby(['user_id'], as_index = False)['date_created'].min()\n",
    "\n",
    "first_box['first_box'] = 1\n",
    "\n",
    "df = pd.merge(df, first_box, how = 'left',  on=['user_id', 'date_created'])"
   ]
  },
  {
   "cell_type": "code",
   "execution_count": null,
   "id": "casual-evolution",
   "metadata": {
    "ExecuteTime": {
     "end_time": "2021-05-11T14:32:40.752002Z",
     "start_time": "2021-05-11T14:32:40.723193Z"
    }
   },
   "outputs": [],
   "source": [
    "df['first_box'] = df['first_box'].fillna(0)\n"
   ]
  },
  {
   "cell_type": "code",
   "execution_count": null,
   "id": "elementary-precipitation",
   "metadata": {
    "ExecuteTime": {
     "end_time": "2021-05-11T14:32:41.517462Z",
     "start_time": "2021-05-11T14:32:40.753930Z"
    }
   },
   "outputs": [],
   "source": [
    "#    - Categorizar clientas si alguna vez han hecho pedidos con promo code y no se han quedado nada\n",
    "# De esta forma, les ponemos un porcentaje de cajas que se han quedado gastando nada utilizando promocodes\n",
    "\n",
    "df_no_items = df\n",
    "\n",
    "df_no_items['promo_code'] = df_no_items['promo_code'].fillna('no_promo')\n",
    "\n",
    "df_no_items = df_no_items[df_no_items.promo_code != 'no_promo'].reset_index(drop = True)\n",
    "\n",
    "df_no_items_grouped = df_no_items.groupby('user_id', as_index = False).agg({'items_kept': 'mean', 'aovn': 'sum'}).reset_index(drop = True).rename(columns={'items_kept':'items_kept_promo', 'aovn': 'aovn_promo' })\n",
    "\n"
   ]
  },
  {
   "cell_type": "code",
   "execution_count": null,
   "id": "further-providence",
   "metadata": {
    "ExecuteTime": {
     "end_time": "2021-05-11T14:32:41.532709Z",
     "start_time": "2021-05-11T14:32:41.520989Z"
    }
   },
   "outputs": [],
   "source": [
    "# https://www.datacamp.com/community/tutorials/random-forests-classifier-python"
   ]
  },
  {
   "cell_type": "code",
   "execution_count": null,
   "id": "unlimited-priest",
   "metadata": {
    "ExecuteTime": {
     "end_time": "2021-05-11T14:32:41.815840Z",
     "start_time": "2021-05-11T14:32:41.534630Z"
    }
   },
   "outputs": [],
   "source": [
    "\n",
    "df['next_date_created'] = pd.to_datetime(df['next_date_created'])\n",
    "\n",
    "df['days_per_box'] = (df['next_date_created'] - df['date_created']).dt.days"
   ]
  },
  {
   "cell_type": "code",
   "execution_count": null,
   "id": "sophisticated-office",
   "metadata": {
    "ExecuteTime": {
     "end_time": "2021-05-11T14:32:42.641427Z",
     "start_time": "2021-05-11T14:32:41.816836Z"
    }
   },
   "outputs": [],
   "source": [
    "df['next_box_exist'] = np.isnat(df['next_date_created'])\n",
    "\n",
    "df['next_box_exist'] = df['next_box_exist'].replace(False, 0)\n",
    "\n",
    "df['next_box_exist'] = df['next_box_exist'].fillna(1)\n",
    "\n",
    "df['next_box_exist'] = df['next_box_exist'].replace('True', 1).astype(int)"
   ]
  },
  {
   "cell_type": "code",
   "execution_count": null,
   "id": "focal-pressing",
   "metadata": {
    "ExecuteTime": {
     "end_time": "2021-05-11T14:32:44.488535Z",
     "start_time": "2021-05-11T14:32:44.473859Z"
    }
   },
   "outputs": [],
   "source": [
    "############# RANDOM FOREST PER BOX\n",
    "\n",
    "df_analysis_box = df\n",
    "#df_analysis_box = pd.read_csv(df_analysis_box.csv)\n",
    "\n",
    "#df['next_promo_code'] = df['next_promo_code'].fillna('no_promo')"
   ]
  },
  {
   "cell_type": "code",
   "execution_count": null,
   "id": "armed-trade",
   "metadata": {
    "ExecuteTime": {
     "end_time": "2021-05-10T10:28:36.054937Z",
     "start_time": "2021-05-10T10:28:34.689350Z"
    }
   },
   "outputs": [],
   "source": [
    "# nat = np.datetime64('NaT')\n",
    "\n",
    "# df_analysis_box[df_analysis_box.next_date_created == pd.isnull(np.datetime64('NaT'))]\n",
    "\n",
    "#df_analysis_box['next_box_exists'] = np.isnat(df_analysis_box['next_date_created'])\n",
    "\n",
    "#df_analysis_box = df_analysis_box[df_analysis_box.next_box_exists == False]\n",
    "\n",
    "df_analysis_box = df_analysis_box.sort_values(['user_id','date_created']).reset_index(drop = True)\n",
    "\n",
    "#df_analysis_box['next_date_created']"
   ]
  },
  {
   "cell_type": "code",
   "execution_count": null,
   "id": "dramatic-entrance",
   "metadata": {
    "ExecuteTime": {
     "end_time": "2021-05-11T15:41:30.922274Z",
     "start_time": "2021-05-11T14:32:51.509635Z"
    },
    "scrolled": true
   },
   "outputs": [],
   "source": [
    "df_analysis_box['aovn_accumulated'] = 0\n",
    "df_analysis_box['items_kept_accumulated'] = 0\n",
    "len_df_analysis_box = len(df_analysis_box)\n",
    "\n",
    "for i in range(0, len_df_analysis_box):\n",
    "        if i == 0:\n",
    "            df_analysis_box['aovn_accumulated'].loc[i] = df_analysis_box['aovn'].loc[i]\n",
    "            df_analysis_box['items_kept_accumulated'].loc[i] = df_analysis_box['items_kept'].loc[i]\n",
    "        if i > 0:\n",
    "            if df_analysis_box['first_box'].loc[i] == 1:\n",
    "                df_analysis_box['aovn_accumulated'].loc[i] = df_analysis_box['aovn'].loc[i]\n",
    "                df_analysis_box['items_kept_accumulated'].loc[i] = df_analysis_box['items_kept'].loc[i]\n",
    "            if df_analysis_box['first_box'].loc[i] == 0 and df_analysis_box['user_id'].loc[i] == df_analysis_box['user_id'].loc[i-1]:\n",
    "                df_analysis_box['aovn_accumulated'].loc[i] = df_analysis_box['aovn'].loc[i] + df_analysis_box['aovn_accumulated'].loc[i - 1]\n",
    "                df_analysis_box['items_kept_accumulated'].loc[i] = df_analysis_box['items_kept'].loc[i] + df_analysis_box['items_kept_accumulated'].loc[i - 1]\n",
    "\n",
    "        "
   ]
  },
  {
   "cell_type": "code",
   "execution_count": null,
   "id": "numerical-mistake",
   "metadata": {
    "ExecuteTime": {
     "end_time": "2021-05-11T15:41:33.104489Z",
     "start_time": "2021-05-11T15:41:30.925175Z"
    }
   },
   "outputs": [],
   "source": [
    "df_age = dimensions[['user_id', 'age']]\n",
    "\n",
    "df_age['merge_column'] = 0\n",
    "\n",
    "df_age = pd.merge(df_age, age_range, how = 'left',  on=['merge_column']) \n",
    "\n",
    "df_age = df_age[(df_age.age >= df_age.range_min) & (df_age.age <= df_age.range_max)]\n",
    "\n",
    "df_age = df_age[['user_id', 'age_range_id']]\n",
    "\n",
    "df_analysis_box = pd.merge(df_age, df_analysis_box, how = 'right',  on=['user_id']) "
   ]
  },
  {
   "cell_type": "code",
   "execution_count": null,
   "id": "southwest-election",
   "metadata": {
    "ExecuteTime": {
     "end_time": "2021-05-11T15:41:33.119694Z",
     "start_time": "2021-05-11T15:41:33.107451Z"
    }
   },
   "outputs": [],
   "source": [
    "df_analysis_box.columns"
   ]
  },
  {
   "cell_type": "code",
   "execution_count": null,
   "id": "clear-absolute",
   "metadata": {
    "ExecuteTime": {
     "end_time": "2021-05-11T15:41:33.135652Z",
     "start_time": "2021-05-11T15:41:33.121657Z"
    }
   },
   "outputs": [],
   "source": [
    "# y si ordeno por cliente y fecha cada caja? De esa forma, puedo \n",
    "\n"
   ]
  },
  {
   "cell_type": "code",
   "execution_count": null,
   "id": "legal-latitude",
   "metadata": {
    "ExecuteTime": {
     "end_time": "2021-05-11T15:41:33.796075Z",
     "start_time": "2021-05-11T15:41:33.137615Z"
    }
   },
   "outputs": [],
   "source": [
    "df_country = pd.read_csv('country_id.csv', sep = ';')\n",
    "\n",
    "df_analysis_box = pd.merge(df_analysis_box, df_country, how = 'left',  on=['country'])"
   ]
  },
  {
   "cell_type": "code",
   "execution_count": null,
   "id": "rotary-norfolk",
   "metadata": {
    "ExecuteTime": {
     "end_time": "2021-05-11T15:41:34.504705Z",
     "start_time": "2021-05-11T15:41:33.798072Z"
    }
   },
   "outputs": [],
   "source": [
    "df_analysis_box['age_nan'] = np.isnan(df_analysis_box['age_range_id'])\n",
    "\n",
    "df_analysis_box = df_analysis_box[(df_analysis_box.age_nan == False)].reset_index(drop = True)\n",
    "\n",
    "df_analysis_box['age_range_id'] = df_analysis_box['age_range_id'].astype(int)\n"
   ]
  },
  {
   "cell_type": "code",
   "execution_count": null,
   "id": "purple-waterproof",
   "metadata": {
    "ExecuteTime": {
     "end_time": "2021-05-11T15:41:34.694372Z",
     "start_time": "2021-05-11T15:41:34.506669Z"
    }
   },
   "outputs": [],
   "source": [
    "df_analysis_box['aovn'] = df_analysis_box['aovn'].astype(int)\n",
    "\n",
    "df_analysis_box['items_kept'] = df_analysis_box['items_kept'].astype(int)\n",
    "\n",
    "df_analysis_box['aovn_accumulated'] = df_analysis_box['aovn_accumulated'].astype(int)\n",
    "\n",
    "df_analysis_box['items_kept_accumulated'] = df_analysis_box['items_kept_accumulated'].astype(int)\n",
    "\n",
    "df_analysis_box['promo_code_corr'] = df_analysis_box['promo_code_corr'].astype(int)\n",
    "\n",
    "df_analysis_box['first_box'] = df_analysis_box['first_box'].astype(int)\n",
    "\n",
    "df_analysis_box['country_id'] = df_analysis_box['country_id'].astype(int)\n",
    "\n"
   ]
  },
  {
   "cell_type": "code",
   "execution_count": null,
   "id": "julian-feeling",
   "metadata": {
    "ExecuteTime": {
     "end_time": "2021-05-11T15:41:47.466555Z",
     "start_time": "2021-05-11T15:41:34.696268Z"
    }
   },
   "outputs": [],
   "source": [
    "df_analysis_box.to_csv('df_analysis_box_v1.csv')"
   ]
  },
  {
   "cell_type": "code",
   "execution_count": null,
   "id": "mediterranean-music",
   "metadata": {},
   "outputs": [],
   "source": []
  },
  {
   "cell_type": "code",
   "execution_count": null,
   "id": "joint-terrace",
   "metadata": {},
   "outputs": [],
   "source": []
  },
  {
   "cell_type": "code",
   "execution_count": null,
   "id": "individual-shipping",
   "metadata": {},
   "outputs": [],
   "source": []
  },
  {
   "cell_type": "code",
   "execution_count": null,
   "id": "fabulous-illness",
   "metadata": {},
   "outputs": [],
   "source": []
  },
  {
   "cell_type": "code",
   "execution_count": null,
   "id": "stuffed-horror",
   "metadata": {},
   "outputs": [],
   "source": []
  },
  {
   "cell_type": "code",
   "execution_count": null,
   "id": "balanced-uzbekistan",
   "metadata": {},
   "outputs": [],
   "source": []
  },
  {
   "cell_type": "code",
   "execution_count": null,
   "id": "interpreted-ancient",
   "metadata": {},
   "outputs": [],
   "source": []
  },
  {
   "cell_type": "code",
   "execution_count": null,
   "id": "identical-macedonia",
   "metadata": {},
   "outputs": [],
   "source": []
  },
  {
   "cell_type": "code",
   "execution_count": null,
   "id": "statistical-conclusion",
   "metadata": {},
   "outputs": [],
   "source": []
  },
  {
   "cell_type": "code",
   "execution_count": null,
   "id": "common-pearl",
   "metadata": {},
   "outputs": [],
   "source": []
  },
  {
   "cell_type": "code",
   "execution_count": 3,
   "id": "express-evaluation",
   "metadata": {
    "ExecuteTime": {
     "end_time": "2021-05-12T06:58:02.377820Z",
     "start_time": "2021-05-12T06:57:56.879845Z"
    }
   },
   "outputs": [
    {
     "name": "stderr",
     "output_type": "stream",
     "text": [
      "c:\\python\\lib\\site-packages\\IPython\\core\\interactiveshell.py:3155: DtypeWarning: Columns (9,10) have mixed types.Specify dtype option on import or set low_memory=False.\n",
      "  has_raised = await self.run_ast_nodes(code_ast.body, cell_name,\n"
     ]
    }
   ],
   "source": [
    "df_analysis_box = pd.read_csv('df_analysis_box_v1.csv')"
   ]
  },
  {
   "cell_type": "code",
   "execution_count": null,
   "id": "egyptian-family",
   "metadata": {
    "ExecuteTime": {
     "start_time": "2021-05-10T09:31:33.698Z"
    }
   },
   "outputs": [],
   "source": [
    "# vamos a introducir toda la siguiente info en el dataframe por caja que hemos visto que influye en el Repeat rate"
   ]
  },
  {
   "cell_type": "code",
   "execution_count": null,
   "id": "active-cemetery",
   "metadata": {
    "ExecuteTime": {
     "start_time": "2021-05-10T09:31:33.699Z"
    }
   },
   "outputs": [],
   "source": [
    "# RR items box one (vamos a poner los items que se ha quedado cada usuaria en su primera caja)\n",
    "\n",
    "# channel grouping\n",
    "# acquisition type"
   ]
  },
  {
   "cell_type": "code",
   "execution_count": 4,
   "id": "grand-rating",
   "metadata": {
    "ExecuteTime": {
     "end_time": "2021-05-12T06:59:02.023464Z",
     "start_time": "2021-05-12T06:58:58.396564Z"
    }
   },
   "outputs": [
    {
     "data": {
      "text/html": [
       "<div>\n",
       "<style scoped>\n",
       "    .dataframe tbody tr th:only-of-type {\n",
       "        vertical-align: middle;\n",
       "    }\n",
       "\n",
       "    .dataframe tbody tr th {\n",
       "        vertical-align: top;\n",
       "    }\n",
       "\n",
       "    .dataframe thead th {\n",
       "        text-align: right;\n",
       "    }\n",
       "</style>\n",
       "<table border=\"1\" class=\"dataframe\">\n",
       "  <thead>\n",
       "    <tr style=\"text-align: right;\">\n",
       "      <th></th>\n",
       "      <th>Unnamed: 0</th>\n",
       "      <th>user_id</th>\n",
       "      <th>age_range_id</th>\n",
       "      <th>order_id</th>\n",
       "      <th>promo_code</th>\n",
       "      <th>date_created</th>\n",
       "      <th>aovn</th>\n",
       "      <th>items_kept</th>\n",
       "      <th>next_order_id</th>\n",
       "      <th>next_promo_code</th>\n",
       "      <th>...</th>\n",
       "      <th>age</th>\n",
       "      <th>country</th>\n",
       "      <th>first_box</th>\n",
       "      <th>days_per_box</th>\n",
       "      <th>next_box_exist</th>\n",
       "      <th>aovn_accumulated</th>\n",
       "      <th>items_kept_accumulated</th>\n",
       "      <th>country_id</th>\n",
       "      <th>age_nan</th>\n",
       "      <th>items_kept_first_box</th>\n",
       "    </tr>\n",
       "  </thead>\n",
       "  <tbody>\n",
       "    <tr>\n",
       "      <th>0</th>\n",
       "      <td>0</td>\n",
       "      <td>11</td>\n",
       "      <td>4</td>\n",
       "      <td>6832.0</td>\n",
       "      <td>no_promo</td>\n",
       "      <td>2016-12-08 18:20:54</td>\n",
       "      <td>98</td>\n",
       "      <td>2</td>\n",
       "      <td>18018.0</td>\n",
       "      <td>NaN</td>\n",
       "      <td>...</td>\n",
       "      <td>40.0</td>\n",
       "      <td>ES</td>\n",
       "      <td>0</td>\n",
       "      <td>102.0</td>\n",
       "      <td>0</td>\n",
       "      <td>98</td>\n",
       "      <td>2</td>\n",
       "      <td>2</td>\n",
       "      <td>False</td>\n",
       "      <td>0</td>\n",
       "    </tr>\n",
       "    <tr>\n",
       "      <th>1</th>\n",
       "      <td>1</td>\n",
       "      <td>11</td>\n",
       "      <td>4</td>\n",
       "      <td>18018.0</td>\n",
       "      <td>no_promo</td>\n",
       "      <td>2017-03-21 10:34:59</td>\n",
       "      <td>104</td>\n",
       "      <td>3</td>\n",
       "      <td>29777.0</td>\n",
       "      <td>NaN</td>\n",
       "      <td>...</td>\n",
       "      <td>40.0</td>\n",
       "      <td>ES</td>\n",
       "      <td>0</td>\n",
       "      <td>71.0</td>\n",
       "      <td>0</td>\n",
       "      <td>203</td>\n",
       "      <td>5</td>\n",
       "      <td>2</td>\n",
       "      <td>False</td>\n",
       "      <td>0</td>\n",
       "    </tr>\n",
       "    <tr>\n",
       "      <th>2</th>\n",
       "      <td>2</td>\n",
       "      <td>11</td>\n",
       "      <td>4</td>\n",
       "      <td>29777.0</td>\n",
       "      <td>no_promo</td>\n",
       "      <td>2017-05-31 18:46:56</td>\n",
       "      <td>110</td>\n",
       "      <td>3</td>\n",
       "      <td>67934.0</td>\n",
       "      <td>NaN</td>\n",
       "      <td>...</td>\n",
       "      <td>40.0</td>\n",
       "      <td>ES</td>\n",
       "      <td>0</td>\n",
       "      <td>150.0</td>\n",
       "      <td>0</td>\n",
       "      <td>314</td>\n",
       "      <td>8</td>\n",
       "      <td>2</td>\n",
       "      <td>False</td>\n",
       "      <td>0</td>\n",
       "    </tr>\n",
       "    <tr>\n",
       "      <th>3</th>\n",
       "      <td>3</td>\n",
       "      <td>11</td>\n",
       "      <td>4</td>\n",
       "      <td>67934.0</td>\n",
       "      <td>no_promo</td>\n",
       "      <td>2017-10-29 10:30:06</td>\n",
       "      <td>140</td>\n",
       "      <td>3</td>\n",
       "      <td>82491.0</td>\n",
       "      <td>NaN</td>\n",
       "      <td>...</td>\n",
       "      <td>40.0</td>\n",
       "      <td>ES</td>\n",
       "      <td>0</td>\n",
       "      <td>50.0</td>\n",
       "      <td>0</td>\n",
       "      <td>455</td>\n",
       "      <td>11</td>\n",
       "      <td>2</td>\n",
       "      <td>False</td>\n",
       "      <td>0</td>\n",
       "    </tr>\n",
       "    <tr>\n",
       "      <th>4</th>\n",
       "      <td>4</td>\n",
       "      <td>11</td>\n",
       "      <td>4</td>\n",
       "      <td>82491.0</td>\n",
       "      <td>no_promo</td>\n",
       "      <td>2017-12-18 12:32:16</td>\n",
       "      <td>220</td>\n",
       "      <td>5</td>\n",
       "      <td>189791.0</td>\n",
       "      <td>NaN</td>\n",
       "      <td>...</td>\n",
       "      <td>40.0</td>\n",
       "      <td>ES</td>\n",
       "      <td>0</td>\n",
       "      <td>196.0</td>\n",
       "      <td>0</td>\n",
       "      <td>675</td>\n",
       "      <td>16</td>\n",
       "      <td>2</td>\n",
       "      <td>False</td>\n",
       "      <td>0</td>\n",
       "    </tr>\n",
       "    <tr>\n",
       "      <th>...</th>\n",
       "      <td>...</td>\n",
       "      <td>...</td>\n",
       "      <td>...</td>\n",
       "      <td>...</td>\n",
       "      <td>...</td>\n",
       "      <td>...</td>\n",
       "      <td>...</td>\n",
       "      <td>...</td>\n",
       "      <td>...</td>\n",
       "      <td>...</td>\n",
       "      <td>...</td>\n",
       "      <td>...</td>\n",
       "      <td>...</td>\n",
       "      <td>...</td>\n",
       "      <td>...</td>\n",
       "      <td>...</td>\n",
       "      <td>...</td>\n",
       "      <td>...</td>\n",
       "      <td>...</td>\n",
       "      <td>...</td>\n",
       "      <td>...</td>\n",
       "    </tr>\n",
       "    <tr>\n",
       "      <th>1410664</th>\n",
       "      <td>1409512</td>\n",
       "      <td>2792309</td>\n",
       "      <td>5</td>\n",
       "      <td>1942945.0</td>\n",
       "      <td>MIESTILO</td>\n",
       "      <td>2021-04-17 09:18:05</td>\n",
       "      <td>114</td>\n",
       "      <td>3</td>\n",
       "      <td>1961586.0</td>\n",
       "      <td>21LK10APR1</td>\n",
       "      <td>...</td>\n",
       "      <td>47.0</td>\n",
       "      <td>ES</td>\n",
       "      <td>1</td>\n",
       "      <td>7.0</td>\n",
       "      <td>0</td>\n",
       "      <td>114</td>\n",
       "      <td>3</td>\n",
       "      <td>2</td>\n",
       "      <td>False</td>\n",
       "      <td>3</td>\n",
       "    </tr>\n",
       "    <tr>\n",
       "      <th>1410665</th>\n",
       "      <td>1409513</td>\n",
       "      <td>2800977</td>\n",
       "      <td>7</td>\n",
       "      <td>NaN</td>\n",
       "      <td>21LK10APR1</td>\n",
       "      <td>2021-04-22 18:40:53</td>\n",
       "      <td>49</td>\n",
       "      <td>1</td>\n",
       "      <td>NaN</td>\n",
       "      <td>NaN</td>\n",
       "      <td>...</td>\n",
       "      <td>70.0</td>\n",
       "      <td>ES</td>\n",
       "      <td>0</td>\n",
       "      <td>NaN</td>\n",
       "      <td>1</td>\n",
       "      <td>0</td>\n",
       "      <td>0</td>\n",
       "      <td>2</td>\n",
       "      <td>False</td>\n",
       "      <td>2</td>\n",
       "    </tr>\n",
       "    <tr>\n",
       "      <th>1410666</th>\n",
       "      <td>1409514</td>\n",
       "      <td>2800977</td>\n",
       "      <td>7</td>\n",
       "      <td>1949626.0</td>\n",
       "      <td>MIESTILO</td>\n",
       "      <td>2021-04-19 18:43:52</td>\n",
       "      <td>114</td>\n",
       "      <td>2</td>\n",
       "      <td>1957070.0</td>\n",
       "      <td>21LK10APR1</td>\n",
       "      <td>...</td>\n",
       "      <td>70.0</td>\n",
       "      <td>ES</td>\n",
       "      <td>1</td>\n",
       "      <td>2.0</td>\n",
       "      <td>0</td>\n",
       "      <td>114</td>\n",
       "      <td>2</td>\n",
       "      <td>2</td>\n",
       "      <td>False</td>\n",
       "      <td>2</td>\n",
       "    </tr>\n",
       "    <tr>\n",
       "      <th>1410667</th>\n",
       "      <td>1409515</td>\n",
       "      <td>2804653</td>\n",
       "      <td>4</td>\n",
       "      <td>NaN</td>\n",
       "      <td>21LK10APR1</td>\n",
       "      <td>2021-04-29 15:36:39</td>\n",
       "      <td>133</td>\n",
       "      <td>4</td>\n",
       "      <td>NaN</td>\n",
       "      <td>NaN</td>\n",
       "      <td>...</td>\n",
       "      <td>44.0</td>\n",
       "      <td>ES</td>\n",
       "      <td>0</td>\n",
       "      <td>NaN</td>\n",
       "      <td>1</td>\n",
       "      <td>0</td>\n",
       "      <td>0</td>\n",
       "      <td>2</td>\n",
       "      <td>False</td>\n",
       "      <td>2</td>\n",
       "    </tr>\n",
       "    <tr>\n",
       "      <th>1410668</th>\n",
       "      <td>1409516</td>\n",
       "      <td>2804653</td>\n",
       "      <td>4</td>\n",
       "      <td>1954064.0</td>\n",
       "      <td>MIESTILO</td>\n",
       "      <td>2021-04-21 16:38:20</td>\n",
       "      <td>95</td>\n",
       "      <td>2</td>\n",
       "      <td>1972773.0</td>\n",
       "      <td>21LK10APR1</td>\n",
       "      <td>...</td>\n",
       "      <td>44.0</td>\n",
       "      <td>ES</td>\n",
       "      <td>1</td>\n",
       "      <td>7.0</td>\n",
       "      <td>0</td>\n",
       "      <td>95</td>\n",
       "      <td>2</td>\n",
       "      <td>2</td>\n",
       "      <td>False</td>\n",
       "      <td>2</td>\n",
       "    </tr>\n",
       "  </tbody>\n",
       "</table>\n",
       "<p>1410669 rows × 26 columns</p>\n",
       "</div>"
      ],
      "text/plain": [
       "         Unnamed: 0  user_id  age_range_id   order_id  promo_code  \\\n",
       "0                 0       11             4     6832.0    no_promo   \n",
       "1                 1       11             4    18018.0    no_promo   \n",
       "2                 2       11             4    29777.0    no_promo   \n",
       "3                 3       11             4    67934.0    no_promo   \n",
       "4                 4       11             4    82491.0    no_promo   \n",
       "...             ...      ...           ...        ...         ...   \n",
       "1410664     1409512  2792309             5  1942945.0    MIESTILO   \n",
       "1410665     1409513  2800977             7        NaN  21LK10APR1   \n",
       "1410666     1409514  2800977             7  1949626.0    MIESTILO   \n",
       "1410667     1409515  2804653             4        NaN  21LK10APR1   \n",
       "1410668     1409516  2804653             4  1954064.0    MIESTILO   \n",
       "\n",
       "                date_created  aovn  items_kept  next_order_id next_promo_code  \\\n",
       "0        2016-12-08 18:20:54    98           2        18018.0             NaN   \n",
       "1        2017-03-21 10:34:59   104           3        29777.0             NaN   \n",
       "2        2017-05-31 18:46:56   110           3        67934.0             NaN   \n",
       "3        2017-10-29 10:30:06   140           3        82491.0             NaN   \n",
       "4        2017-12-18 12:32:16   220           5       189791.0             NaN   \n",
       "...                      ...   ...         ...            ...             ...   \n",
       "1410664  2021-04-17 09:18:05   114           3      1961586.0      21LK10APR1   \n",
       "1410665  2021-04-22 18:40:53    49           1            NaN             NaN   \n",
       "1410666  2021-04-19 18:43:52   114           2      1957070.0      21LK10APR1   \n",
       "1410667  2021-04-29 15:36:39   133           4            NaN             NaN   \n",
       "1410668  2021-04-21 16:38:20    95           2      1972773.0      21LK10APR1   \n",
       "\n",
       "         ...   age  country  first_box  days_per_box  next_box_exist  \\\n",
       "0        ...  40.0       ES          0         102.0               0   \n",
       "1        ...  40.0       ES          0          71.0               0   \n",
       "2        ...  40.0       ES          0         150.0               0   \n",
       "3        ...  40.0       ES          0          50.0               0   \n",
       "4        ...  40.0       ES          0         196.0               0   \n",
       "...      ...   ...      ...        ...           ...             ...   \n",
       "1410664  ...  47.0       ES          1           7.0               0   \n",
       "1410665  ...  70.0       ES          0           NaN               1   \n",
       "1410666  ...  70.0       ES          1           2.0               0   \n",
       "1410667  ...  44.0       ES          0           NaN               1   \n",
       "1410668  ...  44.0       ES          1           7.0               0   \n",
       "\n",
       "         aovn_accumulated  items_kept_accumulated country_id  age_nan  \\\n",
       "0                      98                       2          2    False   \n",
       "1                     203                       5          2    False   \n",
       "2                     314                       8          2    False   \n",
       "3                     455                      11          2    False   \n",
       "4                     675                      16          2    False   \n",
       "...                   ...                     ...        ...      ...   \n",
       "1410664               114                       3          2    False   \n",
       "1410665                 0                       0          2    False   \n",
       "1410666               114                       2          2    False   \n",
       "1410667                 0                       0          2    False   \n",
       "1410668                95                       2          2    False   \n",
       "\n",
       "         items_kept_first_box  \n",
       "0                           0  \n",
       "1                           0  \n",
       "2                           0  \n",
       "3                           0  \n",
       "4                           0  \n",
       "...                       ...  \n",
       "1410664                     3  \n",
       "1410665                     2  \n",
       "1410666                     2  \n",
       "1410667                     2  \n",
       "1410668                     2  \n",
       "\n",
       "[1410669 rows x 26 columns]"
      ]
     },
     "execution_count": 4,
     "metadata": {},
     "output_type": "execute_result"
    }
   ],
   "source": [
    "items_box_one = df_analysis_box[df_analysis_box.first_box == 1][['user_id', 'items_kept']].rename(columns={'items_kept':'items_kept_first_box'})\n",
    "\n",
    "df_analysis_box = pd.merge(df_analysis_box, items_box_one, how = 'inner',  on=['user_id'])\n",
    "\n",
    "df_analysis_box"
   ]
  },
  {
   "cell_type": "code",
   "execution_count": 5,
   "id": "closing-shepherd",
   "metadata": {
    "ExecuteTime": {
     "end_time": "2021-05-12T06:59:02.039927Z",
     "start_time": "2021-05-12T06:59:02.027534Z"
    }
   },
   "outputs": [],
   "source": [
    "# channel grouping, cannot be added as we lost all history of before 2019"
   ]
  },
  {
   "cell_type": "code",
   "execution_count": 6,
   "id": "thermal-montana",
   "metadata": {
    "ExecuteTime": {
     "end_time": "2021-05-12T06:59:02.469448Z",
     "start_time": "2021-05-12T06:59:02.046163Z"
    }
   },
   "outputs": [],
   "source": [
    "import pickle\n",
    "\n",
    "subscriber_type = pickle.load(open(\"subscriber.obj\", 'rb'))\n",
    "\n",
    "occasional = pd.DataFrame(data={'user_id': [x for x, y in subscriber_type.items() if y is False],\n",
    "                                'subscription_type': 1})\n",
    "subscriber = pd.DataFrame(data={'user_id': [x for x, y in subscriber_type.items() if y is True],\n",
    "                                'subscription_type': 2})\n",
    "\n",
    "subscriber = occasional.append(subscriber)"
   ]
  },
  {
   "cell_type": "code",
   "execution_count": 7,
   "id": "excess-diabetes",
   "metadata": {
    "ExecuteTime": {
     "end_time": "2021-05-12T06:59:03.267676Z",
     "start_time": "2021-05-12T06:59:02.473448Z"
    }
   },
   "outputs": [],
   "source": [
    "df_analysis_box = pd.merge(df_analysis_box, subscriber, how = 'left',  on=['user_id'])\n",
    "\n",
    "\n",
    "del(subscriber, occasional, subscriber_type)"
   ]
  },
  {
   "cell_type": "code",
   "execution_count": 8,
   "id": "waiting-cleanup",
   "metadata": {
    "ExecuteTime": {
     "end_time": "2021-05-12T06:59:03.283303Z",
     "start_time": "2021-05-12T06:59:03.271180Z"
    }
   },
   "outputs": [],
   "source": [
    "query_string = \"SELECT distinct id, \" \\\n",
    "                    \"DATE_FORMAT(registration_date,'%Y-%m-%d'), \" \\\n",
    "                    \"age, \" \\\n",
    "                    \"country_code, \" \\\n",
    "                    \"postal_code, \" \\\n",
    "                    \"city, \" \\\n",
    "                    \"newsletter_subscribed, \" \\\n",
    "                    \"last_price_range, \" \\\n",
    "                    \"nivel_aventurera, \" \\\n",
    "                    \"dedicacion, \" \\\n",
    "                    \"estilo_1, \" \\\n",
    "                    \"estilo_2 \" \\\n",
    "                \"FROM lookiero.lake_user\"\n",
    "                    "
   ]
  },
  {
   "cell_type": "code",
   "execution_count": 9,
   "id": "expensive-harbor",
   "metadata": {
    "ExecuteTime": {
     "end_time": "2021-05-12T06:59:56.295457Z",
     "start_time": "2021-05-12T06:59:03.286269Z"
    }
   },
   "outputs": [],
   "source": [
    "mycursor = db.cursor()\n",
    "\n",
    "mycursor.execute(query_string)\n",
    "\n",
    "lake_user = mycursor.fetchall()\n",
    "lake_user = pd.DataFrame(lake_user)"
   ]
  },
  {
   "cell_type": "code",
   "execution_count": 10,
   "id": "tamil-proportion",
   "metadata": {
    "ExecuteTime": {
     "end_time": "2021-05-12T06:59:57.045368Z",
     "start_time": "2021-05-12T06:59:56.296403Z"
    }
   },
   "outputs": [],
   "source": [
    "lake_user = lake_user.rename(columns={0: 'user_id', 1: 'registration_date', 2: 'age', 3:'country', 4: 'postal_code',\n",
    "                                     5: 'city', 6: 'newsletter_subscribed', 7: 'last_price_range', 8: 'nivel_aventurera',\n",
    "                                     9: 'dedicacion', 10: 'estilo_1', 11: 'estilo_2'})\n",
    "\n",
    "lake_user = lake_user[['user_id', 'registration_date', 'newsletter_subscribed', 'last_price_range', 'nivel_aventurera', 'dedicacion']]"
   ]
  },
  {
   "cell_type": "code",
   "execution_count": 11,
   "id": "supreme-wallpaper",
   "metadata": {
    "ExecuteTime": {
     "end_time": "2021-05-12T06:59:58.794478Z",
     "start_time": "2021-05-12T06:59:57.049413Z"
    }
   },
   "outputs": [],
   "source": [
    "df_analysis_box = pd.merge(df_analysis_box, lake_user, how = 'left',  on=['user_id'])\n"
   ]
  },
  {
   "cell_type": "code",
   "execution_count": 12,
   "id": "particular-production",
   "metadata": {
    "ExecuteTime": {
     "end_time": "2021-05-12T07:00:01.256666Z",
     "start_time": "2021-05-12T06:59:58.798609Z"
    }
   },
   "outputs": [
    {
     "data": {
      "text/html": [
       "<div>\n",
       "<style scoped>\n",
       "    .dataframe tbody tr th:only-of-type {\n",
       "        vertical-align: middle;\n",
       "    }\n",
       "\n",
       "    .dataframe tbody tr th {\n",
       "        vertical-align: top;\n",
       "    }\n",
       "\n",
       "    .dataframe thead th {\n",
       "        text-align: right;\n",
       "    }\n",
       "</style>\n",
       "<table border=\"1\" class=\"dataframe\">\n",
       "  <thead>\n",
       "    <tr style=\"text-align: right;\">\n",
       "      <th></th>\n",
       "      <th>Unnamed: 0</th>\n",
       "      <th>user_id</th>\n",
       "      <th>age_range_id</th>\n",
       "      <th>order_id</th>\n",
       "      <th>promo_code</th>\n",
       "      <th>date_created</th>\n",
       "      <th>aovn</th>\n",
       "      <th>items_kept</th>\n",
       "      <th>next_order_id</th>\n",
       "      <th>next_promo_code</th>\n",
       "      <th>...</th>\n",
       "      <th>country_id</th>\n",
       "      <th>age_nan</th>\n",
       "      <th>items_kept_first_box</th>\n",
       "      <th>subscription_type</th>\n",
       "      <th>registration_date</th>\n",
       "      <th>newsletter_subscribed</th>\n",
       "      <th>last_price_range</th>\n",
       "      <th>nivel_aventurera</th>\n",
       "      <th>dedicacion</th>\n",
       "      <th>last_price_range_id</th>\n",
       "    </tr>\n",
       "  </thead>\n",
       "  <tbody>\n",
       "    <tr>\n",
       "      <th>0</th>\n",
       "      <td>0</td>\n",
       "      <td>11</td>\n",
       "      <td>4</td>\n",
       "      <td>6832.0</td>\n",
       "      <td>no_promo</td>\n",
       "      <td>2016-12-08 18:20:54</td>\n",
       "      <td>98</td>\n",
       "      <td>2</td>\n",
       "      <td>18018.0</td>\n",
       "      <td>NaN</td>\n",
       "      <td>...</td>\n",
       "      <td>2</td>\n",
       "      <td>False</td>\n",
       "      <td>0</td>\n",
       "      <td>1.0</td>\n",
       "      <td>2016-02-10</td>\n",
       "      <td>1</td>\n",
       "      <td>60-100</td>\n",
       "      <td>4.0</td>\n",
       "      <td>11.0</td>\n",
       "      <td>2.0</td>\n",
       "    </tr>\n",
       "    <tr>\n",
       "      <th>1</th>\n",
       "      <td>1</td>\n",
       "      <td>11</td>\n",
       "      <td>4</td>\n",
       "      <td>18018.0</td>\n",
       "      <td>no_promo</td>\n",
       "      <td>2017-03-21 10:34:59</td>\n",
       "      <td>104</td>\n",
       "      <td>3</td>\n",
       "      <td>29777.0</td>\n",
       "      <td>NaN</td>\n",
       "      <td>...</td>\n",
       "      <td>2</td>\n",
       "      <td>False</td>\n",
       "      <td>0</td>\n",
       "      <td>1.0</td>\n",
       "      <td>2016-02-10</td>\n",
       "      <td>1</td>\n",
       "      <td>60-100</td>\n",
       "      <td>4.0</td>\n",
       "      <td>11.0</td>\n",
       "      <td>2.0</td>\n",
       "    </tr>\n",
       "    <tr>\n",
       "      <th>2</th>\n",
       "      <td>2</td>\n",
       "      <td>11</td>\n",
       "      <td>4</td>\n",
       "      <td>29777.0</td>\n",
       "      <td>no_promo</td>\n",
       "      <td>2017-05-31 18:46:56</td>\n",
       "      <td>110</td>\n",
       "      <td>3</td>\n",
       "      <td>67934.0</td>\n",
       "      <td>NaN</td>\n",
       "      <td>...</td>\n",
       "      <td>2</td>\n",
       "      <td>False</td>\n",
       "      <td>0</td>\n",
       "      <td>1.0</td>\n",
       "      <td>2016-02-10</td>\n",
       "      <td>1</td>\n",
       "      <td>60-100</td>\n",
       "      <td>4.0</td>\n",
       "      <td>11.0</td>\n",
       "      <td>2.0</td>\n",
       "    </tr>\n",
       "    <tr>\n",
       "      <th>3</th>\n",
       "      <td>3</td>\n",
       "      <td>11</td>\n",
       "      <td>4</td>\n",
       "      <td>67934.0</td>\n",
       "      <td>no_promo</td>\n",
       "      <td>2017-10-29 10:30:06</td>\n",
       "      <td>140</td>\n",
       "      <td>3</td>\n",
       "      <td>82491.0</td>\n",
       "      <td>NaN</td>\n",
       "      <td>...</td>\n",
       "      <td>2</td>\n",
       "      <td>False</td>\n",
       "      <td>0</td>\n",
       "      <td>1.0</td>\n",
       "      <td>2016-02-10</td>\n",
       "      <td>1</td>\n",
       "      <td>60-100</td>\n",
       "      <td>4.0</td>\n",
       "      <td>11.0</td>\n",
       "      <td>2.0</td>\n",
       "    </tr>\n",
       "    <tr>\n",
       "      <th>4</th>\n",
       "      <td>4</td>\n",
       "      <td>11</td>\n",
       "      <td>4</td>\n",
       "      <td>82491.0</td>\n",
       "      <td>no_promo</td>\n",
       "      <td>2017-12-18 12:32:16</td>\n",
       "      <td>220</td>\n",
       "      <td>5</td>\n",
       "      <td>189791.0</td>\n",
       "      <td>NaN</td>\n",
       "      <td>...</td>\n",
       "      <td>2</td>\n",
       "      <td>False</td>\n",
       "      <td>0</td>\n",
       "      <td>1.0</td>\n",
       "      <td>2016-02-10</td>\n",
       "      <td>1</td>\n",
       "      <td>60-100</td>\n",
       "      <td>4.0</td>\n",
       "      <td>11.0</td>\n",
       "      <td>2.0</td>\n",
       "    </tr>\n",
       "    <tr>\n",
       "      <th>...</th>\n",
       "      <td>...</td>\n",
       "      <td>...</td>\n",
       "      <td>...</td>\n",
       "      <td>...</td>\n",
       "      <td>...</td>\n",
       "      <td>...</td>\n",
       "      <td>...</td>\n",
       "      <td>...</td>\n",
       "      <td>...</td>\n",
       "      <td>...</td>\n",
       "      <td>...</td>\n",
       "      <td>...</td>\n",
       "      <td>...</td>\n",
       "      <td>...</td>\n",
       "      <td>...</td>\n",
       "      <td>...</td>\n",
       "      <td>...</td>\n",
       "      <td>...</td>\n",
       "      <td>...</td>\n",
       "      <td>...</td>\n",
       "      <td>...</td>\n",
       "    </tr>\n",
       "    <tr>\n",
       "      <th>1410664</th>\n",
       "      <td>1409512</td>\n",
       "      <td>2792309</td>\n",
       "      <td>5</td>\n",
       "      <td>1942945.0</td>\n",
       "      <td>MIESTILO</td>\n",
       "      <td>2021-04-17 09:18:05</td>\n",
       "      <td>114</td>\n",
       "      <td>3</td>\n",
       "      <td>1961586.0</td>\n",
       "      <td>21LK10APR1</td>\n",
       "      <td>...</td>\n",
       "      <td>2</td>\n",
       "      <td>False</td>\n",
       "      <td>3</td>\n",
       "      <td>1.0</td>\n",
       "      <td>2021-04-16</td>\n",
       "      <td>1</td>\n",
       "      <td>30-60</td>\n",
       "      <td>4.0</td>\n",
       "      <td>4.0</td>\n",
       "      <td>1.0</td>\n",
       "    </tr>\n",
       "    <tr>\n",
       "      <th>1410665</th>\n",
       "      <td>1409513</td>\n",
       "      <td>2800977</td>\n",
       "      <td>7</td>\n",
       "      <td>NaN</td>\n",
       "      <td>21LK10APR1</td>\n",
       "      <td>2021-04-22 18:40:53</td>\n",
       "      <td>49</td>\n",
       "      <td>1</td>\n",
       "      <td>NaN</td>\n",
       "      <td>NaN</td>\n",
       "      <td>...</td>\n",
       "      <td>2</td>\n",
       "      <td>False</td>\n",
       "      <td>2</td>\n",
       "      <td>1.0</td>\n",
       "      <td>2021-04-19</td>\n",
       "      <td>1</td>\n",
       "      <td>60-100</td>\n",
       "      <td>3.0</td>\n",
       "      <td>14.0</td>\n",
       "      <td>2.0</td>\n",
       "    </tr>\n",
       "    <tr>\n",
       "      <th>1410666</th>\n",
       "      <td>1409514</td>\n",
       "      <td>2800977</td>\n",
       "      <td>7</td>\n",
       "      <td>1949626.0</td>\n",
       "      <td>MIESTILO</td>\n",
       "      <td>2021-04-19 18:43:52</td>\n",
       "      <td>114</td>\n",
       "      <td>2</td>\n",
       "      <td>1957070.0</td>\n",
       "      <td>21LK10APR1</td>\n",
       "      <td>...</td>\n",
       "      <td>2</td>\n",
       "      <td>False</td>\n",
       "      <td>2</td>\n",
       "      <td>1.0</td>\n",
       "      <td>2021-04-19</td>\n",
       "      <td>1</td>\n",
       "      <td>60-100</td>\n",
       "      <td>3.0</td>\n",
       "      <td>14.0</td>\n",
       "      <td>2.0</td>\n",
       "    </tr>\n",
       "    <tr>\n",
       "      <th>1410667</th>\n",
       "      <td>1409515</td>\n",
       "      <td>2804653</td>\n",
       "      <td>4</td>\n",
       "      <td>NaN</td>\n",
       "      <td>21LK10APR1</td>\n",
       "      <td>2021-04-29 15:36:39</td>\n",
       "      <td>133</td>\n",
       "      <td>4</td>\n",
       "      <td>NaN</td>\n",
       "      <td>NaN</td>\n",
       "      <td>...</td>\n",
       "      <td>2</td>\n",
       "      <td>False</td>\n",
       "      <td>2</td>\n",
       "      <td>1.0</td>\n",
       "      <td>2021-04-21</td>\n",
       "      <td>1</td>\n",
       "      <td>30-60</td>\n",
       "      <td>3.0</td>\n",
       "      <td>2.0</td>\n",
       "      <td>1.0</td>\n",
       "    </tr>\n",
       "    <tr>\n",
       "      <th>1410668</th>\n",
       "      <td>1409516</td>\n",
       "      <td>2804653</td>\n",
       "      <td>4</td>\n",
       "      <td>1954064.0</td>\n",
       "      <td>MIESTILO</td>\n",
       "      <td>2021-04-21 16:38:20</td>\n",
       "      <td>95</td>\n",
       "      <td>2</td>\n",
       "      <td>1972773.0</td>\n",
       "      <td>21LK10APR1</td>\n",
       "      <td>...</td>\n",
       "      <td>2</td>\n",
       "      <td>False</td>\n",
       "      <td>2</td>\n",
       "      <td>1.0</td>\n",
       "      <td>2021-04-21</td>\n",
       "      <td>1</td>\n",
       "      <td>30-60</td>\n",
       "      <td>3.0</td>\n",
       "      <td>2.0</td>\n",
       "      <td>1.0</td>\n",
       "    </tr>\n",
       "  </tbody>\n",
       "</table>\n",
       "<p>1410669 rows × 33 columns</p>\n",
       "</div>"
      ],
      "text/plain": [
       "         Unnamed: 0  user_id  age_range_id   order_id  promo_code  \\\n",
       "0                 0       11             4     6832.0    no_promo   \n",
       "1                 1       11             4    18018.0    no_promo   \n",
       "2                 2       11             4    29777.0    no_promo   \n",
       "3                 3       11             4    67934.0    no_promo   \n",
       "4                 4       11             4    82491.0    no_promo   \n",
       "...             ...      ...           ...        ...         ...   \n",
       "1410664     1409512  2792309             5  1942945.0    MIESTILO   \n",
       "1410665     1409513  2800977             7        NaN  21LK10APR1   \n",
       "1410666     1409514  2800977             7  1949626.0    MIESTILO   \n",
       "1410667     1409515  2804653             4        NaN  21LK10APR1   \n",
       "1410668     1409516  2804653             4  1954064.0    MIESTILO   \n",
       "\n",
       "                date_created  aovn  items_kept  next_order_id next_promo_code  \\\n",
       "0        2016-12-08 18:20:54    98           2        18018.0             NaN   \n",
       "1        2017-03-21 10:34:59   104           3        29777.0             NaN   \n",
       "2        2017-05-31 18:46:56   110           3        67934.0             NaN   \n",
       "3        2017-10-29 10:30:06   140           3        82491.0             NaN   \n",
       "4        2017-12-18 12:32:16   220           5       189791.0             NaN   \n",
       "...                      ...   ...         ...            ...             ...   \n",
       "1410664  2021-04-17 09:18:05   114           3      1961586.0      21LK10APR1   \n",
       "1410665  2021-04-22 18:40:53    49           1            NaN             NaN   \n",
       "1410666  2021-04-19 18:43:52   114           2      1957070.0      21LK10APR1   \n",
       "1410667  2021-04-29 15:36:39   133           4            NaN             NaN   \n",
       "1410668  2021-04-21 16:38:20    95           2      1972773.0      21LK10APR1   \n",
       "\n",
       "         ... country_id  age_nan  items_kept_first_box  subscription_type  \\\n",
       "0        ...          2    False                     0                1.0   \n",
       "1        ...          2    False                     0                1.0   \n",
       "2        ...          2    False                     0                1.0   \n",
       "3        ...          2    False                     0                1.0   \n",
       "4        ...          2    False                     0                1.0   \n",
       "...      ...        ...      ...                   ...                ...   \n",
       "1410664  ...          2    False                     3                1.0   \n",
       "1410665  ...          2    False                     2                1.0   \n",
       "1410666  ...          2    False                     2                1.0   \n",
       "1410667  ...          2    False                     2                1.0   \n",
       "1410668  ...          2    False                     2                1.0   \n",
       "\n",
       "         registration_date  newsletter_subscribed  last_price_range  \\\n",
       "0               2016-02-10                      1            60-100   \n",
       "1               2016-02-10                      1            60-100   \n",
       "2               2016-02-10                      1            60-100   \n",
       "3               2016-02-10                      1            60-100   \n",
       "4               2016-02-10                      1            60-100   \n",
       "...                    ...                    ...               ...   \n",
       "1410664         2021-04-16                      1             30-60   \n",
       "1410665         2021-04-19                      1            60-100   \n",
       "1410666         2021-04-19                      1            60-100   \n",
       "1410667         2021-04-21                      1             30-60   \n",
       "1410668         2021-04-21                      1             30-60   \n",
       "\n",
       "        nivel_aventurera  dedicacion  last_price_range_id  \n",
       "0                    4.0        11.0                  2.0  \n",
       "1                    4.0        11.0                  2.0  \n",
       "2                    4.0        11.0                  2.0  \n",
       "3                    4.0        11.0                  2.0  \n",
       "4                    4.0        11.0                  2.0  \n",
       "...                  ...         ...                  ...  \n",
       "1410664              4.0         4.0                  1.0  \n",
       "1410665              3.0        14.0                  2.0  \n",
       "1410666              3.0        14.0                  2.0  \n",
       "1410667              3.0         2.0                  1.0  \n",
       "1410668              3.0         2.0                  1.0  \n",
       "\n",
       "[1410669 rows x 33 columns]"
      ]
     },
     "execution_count": 12,
     "metadata": {},
     "output_type": "execute_result"
    }
   ],
   "source": [
    "df_last_price_range = pd.read_csv('last_price_range_id.csv', sep = ';')\n",
    "\n",
    "df_analysis_box = pd.merge(df_analysis_box, df_last_price_range, how = 'left',  on=['last_price_range'])\n",
    "\n",
    "df_analysis_box"
   ]
  },
  {
   "cell_type": "code",
   "execution_count": 13,
   "id": "indonesian-sacrifice",
   "metadata": {
    "ExecuteTime": {
     "end_time": "2021-05-12T07:00:01.394478Z",
     "start_time": "2021-05-12T07:00:01.258597Z"
    }
   },
   "outputs": [],
   "source": [
    "df_analysis_box['nivel_aventurera'] = df_analysis_box['nivel_aventurera'].replace(np.nan, 0)\n",
    "\n",
    "df_analysis_box['nivel_aventurera'] = df_analysis_box['nivel_aventurera'].astype(int)\n",
    "\n",
    "df_analysis_box['dedicacion'] = df_analysis_box['dedicacion'].replace(np.nan, 0)\n",
    "\n",
    "df_analysis_box['dedicacion'] = df_analysis_box['dedicacion'].astype(int)\n",
    "\n",
    "df_analysis_box['last_price_range_id'] = df_analysis_box['last_price_range_id'].replace(np.nan, 0)\n",
    "\n",
    "df_analysis_box['last_price_range_id'] = df_analysis_box['last_price_range_id'].astype(int)\n",
    "\n",
    "df_analysis_box['subscription_type'] = df_analysis_box['subscription_type'].replace(np.nan, 0)\n",
    "\n",
    "df_analysis_box['subscription_type'] = df_analysis_box['subscription_type'].astype(int)\n",
    "\n",
    "df_analysis_box['newsletter_subscribed'] = df_analysis_box['newsletter_subscribed'].replace(np.nan, 0)\n",
    "\n",
    "df_analysis_box['newsletter_subscribed'] = df_analysis_box['newsletter_subscribed'].astype(int)\n",
    "\n"
   ]
  },
  {
   "cell_type": "code",
   "execution_count": 14,
   "id": "sonic-aerospace",
   "metadata": {
    "ExecuteTime": {
     "end_time": "2021-05-12T07:00:01.410503Z",
     "start_time": "2021-05-12T07:00:01.397295Z"
    }
   },
   "outputs": [
    {
     "data": {
      "text/plain": [
       "Index(['Unnamed: 0', 'user_id', 'age_range_id', 'order_id', 'promo_code',\n",
       "       'date_created', 'aovn', 'items_kept', 'next_order_id',\n",
       "       'next_promo_code', 'next_date_created', 'promo_code_corr',\n",
       "       'next_promo_code_corr', 'next_aovn', 'next_items_kept', 'proportion',\n",
       "       'age', 'country', 'first_box', 'days_per_box', 'next_box_exist',\n",
       "       'aovn_accumulated', 'items_kept_accumulated', 'country_id', 'age_nan',\n",
       "       'items_kept_first_box', 'subscription_type', 'registration_date',\n",
       "       'newsletter_subscribed', 'last_price_range', 'nivel_aventurera',\n",
       "       'dedicacion', 'last_price_range_id'],\n",
       "      dtype='object')"
      ]
     },
     "execution_count": 14,
     "metadata": {},
     "output_type": "execute_result"
    }
   ],
   "source": [
    "df_analysis_box.columns"
   ]
  },
  {
   "cell_type": "code",
   "execution_count": 15,
   "id": "likely-buddy",
   "metadata": {
    "ExecuteTime": {
     "end_time": "2021-05-12T07:00:03.626670Z",
     "start_time": "2021-05-12T07:00:01.411432Z"
    }
   },
   "outputs": [
    {
     "name": "stdout",
     "output_type": "stream",
     "text": [
      "[[0. 1. 0. ... 0. 0. 0.]\n",
      " [0. 1. 0. ... 0. 0. 0.]\n",
      " [0. 1. 0. ... 0. 0. 0.]\n",
      " ...\n",
      " [0. 1. 0. ... 0. 0. 0.]\n",
      " [0. 1. 0. ... 0. 0. 0.]\n",
      " [0. 1. 0. ... 0. 0. 0.]]\n"
     ]
    }
   ],
   "source": [
    "from sklearn.preprocessing import LabelEncoder\n",
    "from sklearn.preprocessing import OneHotEncoder\n",
    "\n",
    "# define example\n",
    "data = df_analysis_box['country']\n",
    "values = np.array(data)\n",
    "\n",
    "label_encoder = LabelEncoder()\n",
    "integer_encoded = label_encoder.fit_transform(values)\n",
    "\n",
    "onehot_encoder = OneHotEncoder(sparse=False)\n",
    "integer_encoded = integer_encoded.reshape(len(integer_encoded), 1)\n",
    "onehot_encoded = onehot_encoder.fit_transform(integer_encoded)\n",
    "print(onehot_encoded)\n",
    "\n",
    "df_analysis_box['column_merge'] = df_analysis_box.index\n",
    "\n",
    "onehot_encoded = pd.DataFrame(onehot_encoded)\n",
    "\n",
    "onehot_encoded['column_merge'] = onehot_encoded.index\n",
    "\n",
    "onehot_encoded = onehot_encoded.rename(columns={0: 'country_0', 1: 'country_1', 2: 'country_2', 3:'country_3',\n",
    "                               4: 'country_4', 5: 'country_5', 6: 'country_6'})\n",
    "\n",
    "df_analysis_box = pd.merge(df_analysis_box, onehot_encoded, how = 'inner',  on=['column_merge'])\n",
    "\n",
    "del(data, values, onehot_encoder, integer_encoded)"
   ]
  },
  {
   "cell_type": "code",
   "execution_count": 16,
   "id": "confident-clerk",
   "metadata": {
    "ExecuteTime": {
     "end_time": "2021-05-12T07:00:04.538800Z",
     "start_time": "2021-05-12T07:00:03.628665Z"
    }
   },
   "outputs": [],
   "source": [
    "last_box = df_analysis_box[(df_analysis_box.next_box_exist == 1)]\n",
    "\n",
    "df_analysis_box_exists = df_analysis_box[(df_analysis_box.next_box_exist == 0)]\n",
    "\n"
   ]
  },
  {
   "cell_type": "code",
   "execution_count": 17,
   "id": "resistant-television",
   "metadata": {
    "ExecuteTime": {
     "end_time": "2021-05-12T07:00:04.585654Z",
     "start_time": "2021-05-12T07:00:04.539733Z"
    }
   },
   "outputs": [
    {
     "name": "stderr",
     "output_type": "stream",
     "text": [
      "<ipython-input-17-f15f19732c7b>:1: SettingWithCopyWarning: \n",
      "A value is trying to be set on a copy of a slice from a DataFrame.\n",
      "Try using .loc[row_indexer,col_indexer] = value instead\n",
      "\n",
      "See the caveats in the documentation: https://pandas.pydata.org/pandas-docs/stable/user_guide/indexing.html#returning-a-view-versus-a-copy\n",
      "  df_analysis_box_exists['days_per_box'] = df_analysis_box_exists['days_per_box'].astype(int)\n"
     ]
    }
   ],
   "source": [
    "df_analysis_box_exists['days_per_box'] = df_analysis_box_exists['days_per_box'].astype(int)\n",
    "\n"
   ]
  },
  {
   "cell_type": "code",
   "execution_count": 18,
   "id": "mexican-arrow",
   "metadata": {
    "ExecuteTime": {
     "end_time": "2021-05-12T07:00:23.657454Z",
     "start_time": "2021-05-12T07:00:22.544195Z"
    }
   },
   "outputs": [
    {
     "name": "stderr",
     "output_type": "stream",
     "text": [
      "<ipython-input-18-f81dcacdada6>:3: SettingWithCopyWarning: \n",
      "A value is trying to be set on a copy of a slice from a DataFrame.\n",
      "Try using .loc[row_indexer,col_indexer] = value instead\n",
      "\n",
      "See the caveats in the documentation: https://pandas.pydata.org/pandas-docs/stable/user_guide/indexing.html#returning-a-view-versus-a-copy\n",
      "  last_box['today'] = today\n",
      "<ipython-input-18-f81dcacdada6>:5: SettingWithCopyWarning: \n",
      "A value is trying to be set on a copy of a slice from a DataFrame.\n",
      "Try using .loc[row_indexer,col_indexer] = value instead\n",
      "\n",
      "See the caveats in the documentation: https://pandas.pydata.org/pandas-docs/stable/user_guide/indexing.html#returning-a-view-versus-a-copy\n",
      "  last_box['date_created'] = pd.to_datetime(last_box['date_created'])\n",
      "<ipython-input-18-f81dcacdada6>:7: SettingWithCopyWarning: \n",
      "A value is trying to be set on a copy of a slice from a DataFrame.\n",
      "Try using .loc[row_indexer,col_indexer] = value instead\n",
      "\n",
      "See the caveats in the documentation: https://pandas.pydata.org/pandas-docs/stable/user_guide/indexing.html#returning-a-view-versus-a-copy\n",
      "  last_box['days_per_box'] = (last_box['today'] - last_box['date_created']).astype('timedelta64[D]').astype(int)\n"
     ]
    }
   ],
   "source": [
    "today = dt.datetime.today()\n",
    "\n",
    "last_box['today'] = today\n",
    "\n",
    "last_box['date_created'] = pd.to_datetime(last_box['date_created'])\n",
    "\n",
    "last_box['days_per_box'] = (last_box['today'] - last_box['date_created']).astype('timedelta64[D]').astype(int)"
   ]
  },
  {
   "cell_type": "code",
   "execution_count": null,
   "id": "proud-transcript",
   "metadata": {
    "ExecuteTime": {
     "end_time": "2021-05-10T13:34:11.426700Z",
     "start_time": "2021-05-10T13:34:11.238267Z"
    }
   },
   "outputs": [],
   "source": [
    "# Model to check if they will buy with promo code or not\n",
    "\n",
    "\n",
    "import sklearn\n",
    "from sklearn.model_selection import train_test_split\n",
    "\n",
    "X=df_analysis_box_exists[['aovn', 'aovn_accumulated', 'items_kept', 'items_kept_accumulated', \n",
    "                   'days_per_box']] \n",
    "#PROMO_boxes, lo pongo? mejora la predicción, pero si una clienta no ha tenido nunca promos, aprende que es 0\n",
    "y=df_analysis_box_exists['next_promo_code_corr']\n",
    "\n",
    "X_train, X_test, y_train, y_test = train_test_split(X, y, test_size=0.30)"
   ]
  },
  {
   "cell_type": "code",
   "execution_count": null,
   "id": "marine-spoke",
   "metadata": {
    "ExecuteTime": {
     "end_time": "2021-05-10T13:35:25.491642Z",
     "start_time": "2021-05-10T13:34:17.251354Z"
    }
   },
   "outputs": [],
   "source": [
    "from sklearn.ensemble import RandomForestClassifier\n",
    "\n",
    "clf=RandomForestClassifier(n_estimators=50, random_state=1)\n",
    "\n",
    "\n",
    "clf.fit(X_train,y_train)\n",
    "\n",
    "y_pred = clf.predict(X_test)"
   ]
  },
  {
   "cell_type": "code",
   "execution_count": null,
   "id": "attempted-persian",
   "metadata": {
    "ExecuteTime": {
     "end_time": "2021-05-10T13:35:25.537328Z",
     "start_time": "2021-05-10T13:35:25.493526Z"
    }
   },
   "outputs": [],
   "source": [
    "from sklearn import metrics\n",
    "# Model Accuracy, how often is the classifier correct?\n",
    "print(\"Accuracy:\",metrics.accuracy_score(y_test, y_pred))\n",
    "print('Mean Absolute Error:', metrics.mean_absolute_error(y_test, y_pred))\n",
    "print('Mean Squared Error:', metrics.mean_squared_error(y_test, y_pred))\n",
    "0.89"
   ]
  },
  {
   "cell_type": "code",
   "execution_count": null,
   "id": "static-rates",
   "metadata": {
    "ExecuteTime": {
     "end_time": "2021-05-10T13:35:36.899215Z",
     "start_time": "2021-05-10T13:35:36.853302Z"
    }
   },
   "outputs": [],
   "source": [
    "feature_columns = df_analysis_box[['aovn', 'aovn_accumulated', 'items_kept', 'items_kept_accumulated', \n",
    "                   'days_per_box']].columns"
   ]
  },
  {
   "cell_type": "code",
   "execution_count": null,
   "id": "medieval-mitchell",
   "metadata": {
    "ExecuteTime": {
     "end_time": "2021-05-10T13:35:42.681637Z",
     "start_time": "2021-05-10T13:35:42.605530Z"
    }
   },
   "outputs": [],
   "source": [
    "feature_imp = pd.Series(clf.feature_importances_,index=\n",
    "                        feature_columns ).sort_values(ascending=False)\n",
    "\n",
    "feature_imp"
   ]
  },
  {
   "cell_type": "code",
   "execution_count": null,
   "id": "editorial-aaron",
   "metadata": {
    "ExecuteTime": {
     "start_time": "2021-05-10T09:31:17.003Z"
    }
   },
   "outputs": [],
   "source": [
    "'''df_analysis_box[['aovn', 'aovn_accumulated', 'items_kept', 'items_kept_accumulated', \n",
    "                   'promo_code_corr', 'days_per_box', 'first_box', 'age_range_id', 'country_id', \n",
    "                   'nivel_aventurera', 'dedicacion', 'last_price_range_id', 'subscription_type', \n",
    "                   'newsletter_subscribed']].columns'''"
   ]
  },
  {
   "cell_type": "code",
   "execution_count": null,
   "id": "senior-purchase",
   "metadata": {
    "ExecuteTime": {
     "end_time": "2021-05-10T13:33:38.758397Z",
     "start_time": "2021-05-10T13:33:33.116403Z"
    }
   },
   "outputs": [],
   "source": [
    "import matplotlib.pyplot as plt  \n",
    "from sklearn import datasets, metrics, model_selection, svm\n",
    "\n",
    "metrics.plot_roc_curve(clf, X_test, y_test)"
   ]
  },
  {
   "cell_type": "code",
   "execution_count": null,
   "id": "latest-adapter",
   "metadata": {
    "ExecuteTime": {
     "end_time": "2021-05-10T13:33:38.931521Z",
     "start_time": "2021-05-10T13:33:38.760300Z"
    }
   },
   "outputs": [],
   "source": [
    "from sklearn.metrics import confusion_matrix\n",
    "\n",
    "confusion_matrix(y_test, y_pred)"
   ]
  },
  {
   "cell_type": "code",
   "execution_count": null,
   "id": "comparative-caution",
   "metadata": {
    "ExecuteTime": {
     "start_time": "2021-05-10T13:35:48.577Z"
    },
    "scrolled": true
   },
   "outputs": [],
   "source": [
    "last_box['promo_prediction'] = None\n",
    "\n",
    "last_box = last_box.reset_index(drop = True)\n",
    "\n",
    "len_last_box = len(last_box)\n",
    "\n",
    "for i in range(0, len_last_box):\n",
    "\n",
    "    prediction = clf.predict([[last_box['aovn'].loc[i], \n",
    "                  last_box['aovn_accumulated'].loc[i], \n",
    "                  last_box['items_kept'].loc[i], \n",
    "                  last_box['items_kept_accumulated'].loc[i], \n",
    "                  last_box['days_per_box'].loc[i]]])\n",
    "    \n",
    "    last_box.loc[i, 'promo_prediction'] = prediction\n",
    "    \n",
    "    "
   ]
  },
  {
   "cell_type": "code",
   "execution_count": 19,
   "id": "capable-meditation",
   "metadata": {
    "ExecuteTime": {
     "end_time": "2021-05-12T07:00:25.575616Z",
     "start_time": "2021-05-12T07:00:25.475102Z"
    }
   },
   "outputs": [],
   "source": [
    "feature_list = df_analysis_box[['aovn', 'aovn_accumulated', 'items_kept', 'items_kept_accumulated', \n",
    "                   'promo_code_corr', 'days_per_box', 'first_box', 'age_range_id', 'country_id', \n",
    "                   'nivel_aventurera', 'dedicacion', 'last_price_range_id', 'subscription_type', \n",
    "                   'newsletter_subscribed']].columns"
   ]
  },
  {
   "cell_type": "code",
   "execution_count": 20,
   "id": "sexual-version",
   "metadata": {
    "ExecuteTime": {
     "end_time": "2021-05-12T07:00:25.605788Z",
     "start_time": "2021-05-12T07:00:25.584117Z"
    },
    "scrolled": true
   },
   "outputs": [
    {
     "data": {
      "text/plain": [
       "\"import pydot\\n# Pull out one tree from the forest\\ntree = clf.estimators_[5]\\n# Import tools needed for visualization\\nfrom sklearn.tree import export_graphviz\\nimport pydot\\n# Pull out one tree from the forest\\ntree = clf.estimators_[5]\\n# Export the image to a dot file\\nexport_graphviz(tree, out_file = 'tree.dot', feature_names = feature_list, rounded = True, precision = 1)\\n# Use dot file to create a graph\\n(graph, ) = pydot.graph_from_dot_file('tree.dot')\\n# Write graph to a png file\\ngraph.write_png('tree.png')\\n\""
      ]
     },
     "execution_count": 20,
     "metadata": {},
     "output_type": "execute_result"
    }
   ],
   "source": [
    "# Import tools needed for visualizationfrom sklearn.tree import export_graphviz\n",
    "'''import pydot\n",
    "# Pull out one tree from the forest\n",
    "tree = clf.estimators_[5]\n",
    "# Import tools needed for visualization\n",
    "from sklearn.tree import export_graphviz\n",
    "import pydot\n",
    "# Pull out one tree from the forest\n",
    "tree = clf.estimators_[5]\n",
    "# Export the image to a dot file\n",
    "export_graphviz(tree, out_file = 'tree.dot', feature_names = feature_list, rounded = True, precision = 1)\n",
    "# Use dot file to create a graph\n",
    "(graph, ) = pydot.graph_from_dot_file('tree.dot')\n",
    "# Write graph to a png file\n",
    "graph.write_png('tree.png')\n",
    "'''"
   ]
  },
  {
   "cell_type": "code",
   "execution_count": 21,
   "id": "afraid-computer",
   "metadata": {
    "ExecuteTime": {
     "end_time": "2021-05-12T07:00:39.323659Z",
     "start_time": "2021-05-12T07:00:25.610772Z"
    }
   },
   "outputs": [],
   "source": [
    "last_box = last_box.to_csv('last_box_random_forest.csv')"
   ]
  },
  {
   "cell_type": "code",
   "execution_count": 22,
   "id": "middle-lounge",
   "metadata": {
    "ExecuteTime": {
     "end_time": "2021-05-12T07:00:39.338620Z",
     "start_time": "2021-05-12T07:00:39.325993Z"
    }
   },
   "outputs": [],
   "source": [
    "average_spend_box = df_analysis_box\n",
    "\n"
   ]
  },
  {
   "cell_type": "code",
   "execution_count": 23,
   "id": "computational-grain",
   "metadata": {
    "ExecuteTime": {
     "end_time": "2021-05-12T07:00:39.353623Z",
     "start_time": "2021-05-12T07:00:39.341641Z"
    },
    "scrolled": true
   },
   "outputs": [
    {
     "data": {
      "text/plain": [
       "\"average_spend_box['today'] = datetime.today()\\n\\naverage_spend_box['delta_days'] = (average_spend_box['today'] - pd.to_datetime(average_spend_box['registration_date'])).dt.days\\n\\n\\naverage_spend_box = average_spend_box[average_spend_box.delta_days >= 365]\\n\\naverage_spend_box['delta_days'] = (average_spend_box['today'] - pd.to_datetime(average_spend_box['date_created'])).dt.days\\n\\naverage_spend_box = average_spend_box[average_spend_box.delta_days <= 365]\\n\\n\""
      ]
     },
     "execution_count": 23,
     "metadata": {},
     "output_type": "execute_result"
    }
   ],
   "source": [
    "'''average_spend_box['today'] = datetime.today()\n",
    "\n",
    "average_spend_box['delta_days'] = (average_spend_box['today'] - pd.to_datetime(average_spend_box['registration_date'])).dt.days\n",
    "\n",
    "\n",
    "average_spend_box = average_spend_box[average_spend_box.delta_days >= 365]\n",
    "\n",
    "average_spend_box['delta_days'] = (average_spend_box['today'] - pd.to_datetime(average_spend_box['date_created'])).dt.days\n",
    "\n",
    "average_spend_box = average_spend_box[average_spend_box.delta_days <= 365]\n",
    "\n",
    "'''"
   ]
  },
  {
   "cell_type": "code",
   "execution_count": 24,
   "id": "unlimited-audience",
   "metadata": {
    "ExecuteTime": {
     "end_time": "2021-05-12T07:00:39.368998Z",
     "start_time": "2021-05-12T07:00:39.358644Z"
    }
   },
   "outputs": [
    {
     "data": {
      "text/plain": [
       "Index(['Unnamed: 0', 'user_id', 'age_range_id', 'order_id', 'promo_code',\n",
       "       'date_created', 'aovn', 'items_kept', 'next_order_id',\n",
       "       'next_promo_code', 'next_date_created', 'promo_code_corr',\n",
       "       'next_promo_code_corr', 'next_aovn', 'next_items_kept', 'proportion',\n",
       "       'age', 'country', 'first_box', 'days_per_box', 'next_box_exist',\n",
       "       'aovn_accumulated', 'items_kept_accumulated', 'country_id', 'age_nan',\n",
       "       'items_kept_first_box', 'subscription_type', 'registration_date',\n",
       "       'newsletter_subscribed', 'last_price_range', 'nivel_aventurera',\n",
       "       'dedicacion', 'last_price_range_id', 'column_merge', 'country_0',\n",
       "       'country_1', 'country_2', 'country_3', 'country_4', 'country_5',\n",
       "       'country_6'],\n",
       "      dtype='object')"
      ]
     },
     "execution_count": 24,
     "metadata": {},
     "output_type": "execute_result"
    }
   ],
   "source": [
    "df_analysis_box.columns"
   ]
  },
  {
   "cell_type": "code",
   "execution_count": 26,
   "id": "downtown-festival",
   "metadata": {
    "ExecuteTime": {
     "end_time": "2021-05-12T07:01:11.646790Z",
     "start_time": "2021-05-12T07:01:08.561148Z"
    }
   },
   "outputs": [
    {
     "data": {
      "text/html": [
       "<div>\n",
       "<style scoped>\n",
       "    .dataframe tbody tr th:only-of-type {\n",
       "        vertical-align: middle;\n",
       "    }\n",
       "\n",
       "    .dataframe tbody tr th {\n",
       "        vertical-align: top;\n",
       "    }\n",
       "\n",
       "    .dataframe thead th {\n",
       "        text-align: right;\n",
       "    }\n",
       "</style>\n",
       "<table border=\"1\" class=\"dataframe\">\n",
       "  <thead>\n",
       "    <tr style=\"text-align: right;\">\n",
       "      <th></th>\n",
       "      <th>user_id</th>\n",
       "      <th>age_range_id</th>\n",
       "      <th>items_kept_first_box</th>\n",
       "      <th>subscription_type</th>\n",
       "      <th>newsletter_subscribed</th>\n",
       "      <th>last_price_range_id</th>\n",
       "      <th>nivel_aventurera</th>\n",
       "      <th>dedicacion</th>\n",
       "      <th>country</th>\n",
       "      <th>country_id</th>\n",
       "      <th>aovn</th>\n",
       "      <th>items_kept</th>\n",
       "      <th>promo_boxes</th>\n",
       "      <th>number_boxes</th>\n",
       "      <th>days_per_box</th>\n",
       "      <th>average_aovn_box</th>\n",
       "      <th>average_items_box</th>\n",
       "    </tr>\n",
       "  </thead>\n",
       "  <tbody>\n",
       "    <tr>\n",
       "      <th>0</th>\n",
       "      <td>11</td>\n",
       "      <td>4</td>\n",
       "      <td>0</td>\n",
       "      <td>1</td>\n",
       "      <td>1</td>\n",
       "      <td>2</td>\n",
       "      <td>4</td>\n",
       "      <td>11</td>\n",
       "      <td>ES</td>\n",
       "      <td>2</td>\n",
       "      <td>2109</td>\n",
       "      <td>53</td>\n",
       "      <td>5</td>\n",
       "      <td>18</td>\n",
       "      <td>98.705882</td>\n",
       "      <td>117.166667</td>\n",
       "      <td>2.944444</td>\n",
       "    </tr>\n",
       "    <tr>\n",
       "      <th>1</th>\n",
       "      <td>41</td>\n",
       "      <td>6</td>\n",
       "      <td>5</td>\n",
       "      <td>1</td>\n",
       "      <td>1</td>\n",
       "      <td>2</td>\n",
       "      <td>3</td>\n",
       "      <td>1</td>\n",
       "      <td>ES</td>\n",
       "      <td>2</td>\n",
       "      <td>274</td>\n",
       "      <td>6</td>\n",
       "      <td>0</td>\n",
       "      <td>3</td>\n",
       "      <td>30.500000</td>\n",
       "      <td>91.333333</td>\n",
       "      <td>2.000000</td>\n",
       "    </tr>\n",
       "    <tr>\n",
       "      <th>2</th>\n",
       "      <td>43</td>\n",
       "      <td>6</td>\n",
       "      <td>2</td>\n",
       "      <td>1</td>\n",
       "      <td>1</td>\n",
       "      <td>3</td>\n",
       "      <td>3</td>\n",
       "      <td>3</td>\n",
       "      <td>ES</td>\n",
       "      <td>2</td>\n",
       "      <td>1788</td>\n",
       "      <td>44</td>\n",
       "      <td>2</td>\n",
       "      <td>14</td>\n",
       "      <td>116.692308</td>\n",
       "      <td>127.714286</td>\n",
       "      <td>3.142857</td>\n",
       "    </tr>\n",
       "    <tr>\n",
       "      <th>3</th>\n",
       "      <td>44</td>\n",
       "      <td>3</td>\n",
       "      <td>2</td>\n",
       "      <td>1</td>\n",
       "      <td>1</td>\n",
       "      <td>1</td>\n",
       "      <td>1</td>\n",
       "      <td>2</td>\n",
       "      <td>ES</td>\n",
       "      <td>2</td>\n",
       "      <td>258</td>\n",
       "      <td>6</td>\n",
       "      <td>3</td>\n",
       "      <td>5</td>\n",
       "      <td>252.250000</td>\n",
       "      <td>51.600000</td>\n",
       "      <td>1.200000</td>\n",
       "    </tr>\n",
       "    <tr>\n",
       "      <th>4</th>\n",
       "      <td>46</td>\n",
       "      <td>5</td>\n",
       "      <td>5</td>\n",
       "      <td>1</td>\n",
       "      <td>1</td>\n",
       "      <td>2</td>\n",
       "      <td>5</td>\n",
       "      <td>1</td>\n",
       "      <td>ES</td>\n",
       "      <td>2</td>\n",
       "      <td>143</td>\n",
       "      <td>5</td>\n",
       "      <td>1</td>\n",
       "      <td>1</td>\n",
       "      <td>NaN</td>\n",
       "      <td>143.000000</td>\n",
       "      <td>5.000000</td>\n",
       "    </tr>\n",
       "    <tr>\n",
       "      <th>...</th>\n",
       "      <td>...</td>\n",
       "      <td>...</td>\n",
       "      <td>...</td>\n",
       "      <td>...</td>\n",
       "      <td>...</td>\n",
       "      <td>...</td>\n",
       "      <td>...</td>\n",
       "      <td>...</td>\n",
       "      <td>...</td>\n",
       "      <td>...</td>\n",
       "      <td>...</td>\n",
       "      <td>...</td>\n",
       "      <td>...</td>\n",
       "      <td>...</td>\n",
       "      <td>...</td>\n",
       "      <td>...</td>\n",
       "      <td>...</td>\n",
       "    </tr>\n",
       "    <tr>\n",
       "      <th>532506</th>\n",
       "      <td>2834775</td>\n",
       "      <td>4</td>\n",
       "      <td>4</td>\n",
       "      <td>1</td>\n",
       "      <td>1</td>\n",
       "      <td>1</td>\n",
       "      <td>3</td>\n",
       "      <td>14</td>\n",
       "      <td>PT</td>\n",
       "      <td>7</td>\n",
       "      <td>155</td>\n",
       "      <td>4</td>\n",
       "      <td>0</td>\n",
       "      <td>1</td>\n",
       "      <td>NaN</td>\n",
       "      <td>155.000000</td>\n",
       "      <td>4.000000</td>\n",
       "    </tr>\n",
       "    <tr>\n",
       "      <th>532507</th>\n",
       "      <td>2834853</td>\n",
       "      <td>3</td>\n",
       "      <td>0</td>\n",
       "      <td>2</td>\n",
       "      <td>1</td>\n",
       "      <td>1</td>\n",
       "      <td>1</td>\n",
       "      <td>3</td>\n",
       "      <td>ES</td>\n",
       "      <td>2</td>\n",
       "      <td>0</td>\n",
       "      <td>0</td>\n",
       "      <td>1</td>\n",
       "      <td>1</td>\n",
       "      <td>NaN</td>\n",
       "      <td>0.000000</td>\n",
       "      <td>0.000000</td>\n",
       "    </tr>\n",
       "    <tr>\n",
       "      <th>532508</th>\n",
       "      <td>2834920</td>\n",
       "      <td>3</td>\n",
       "      <td>0</td>\n",
       "      <td>2</td>\n",
       "      <td>1</td>\n",
       "      <td>2</td>\n",
       "      <td>3</td>\n",
       "      <td>4</td>\n",
       "      <td>PT</td>\n",
       "      <td>7</td>\n",
       "      <td>10</td>\n",
       "      <td>0</td>\n",
       "      <td>0</td>\n",
       "      <td>1</td>\n",
       "      <td>NaN</td>\n",
       "      <td>10.000000</td>\n",
       "      <td>0.000000</td>\n",
       "    </tr>\n",
       "    <tr>\n",
       "      <th>532509</th>\n",
       "      <td>2835147</td>\n",
       "      <td>3</td>\n",
       "      <td>0</td>\n",
       "      <td>1</td>\n",
       "      <td>1</td>\n",
       "      <td>1</td>\n",
       "      <td>4</td>\n",
       "      <td>13</td>\n",
       "      <td>ES</td>\n",
       "      <td>2</td>\n",
       "      <td>0</td>\n",
       "      <td>0</td>\n",
       "      <td>1</td>\n",
       "      <td>1</td>\n",
       "      <td>NaN</td>\n",
       "      <td>0.000000</td>\n",
       "      <td>0.000000</td>\n",
       "    </tr>\n",
       "    <tr>\n",
       "      <th>532510</th>\n",
       "      <td>2835219</td>\n",
       "      <td>7</td>\n",
       "      <td>5</td>\n",
       "      <td>1</td>\n",
       "      <td>1</td>\n",
       "      <td>1</td>\n",
       "      <td>4</td>\n",
       "      <td>14</td>\n",
       "      <td>ES</td>\n",
       "      <td>2</td>\n",
       "      <td>131</td>\n",
       "      <td>5</td>\n",
       "      <td>1</td>\n",
       "      <td>1</td>\n",
       "      <td>NaN</td>\n",
       "      <td>131.000000</td>\n",
       "      <td>5.000000</td>\n",
       "    </tr>\n",
       "  </tbody>\n",
       "</table>\n",
       "<p>532511 rows × 17 columns</p>\n",
       "</div>"
      ],
      "text/plain": [
       "        user_id  age_range_id  items_kept_first_box  subscription_type  \\\n",
       "0            11             4                     0                  1   \n",
       "1            41             6                     5                  1   \n",
       "2            43             6                     2                  1   \n",
       "3            44             3                     2                  1   \n",
       "4            46             5                     5                  1   \n",
       "...         ...           ...                   ...                ...   \n",
       "532506  2834775             4                     4                  1   \n",
       "532507  2834853             3                     0                  2   \n",
       "532508  2834920             3                     0                  2   \n",
       "532509  2835147             3                     0                  1   \n",
       "532510  2835219             7                     5                  1   \n",
       "\n",
       "        newsletter_subscribed  last_price_range_id  nivel_aventurera  \\\n",
       "0                           1                    2                 4   \n",
       "1                           1                    2                 3   \n",
       "2                           1                    3                 3   \n",
       "3                           1                    1                 1   \n",
       "4                           1                    2                 5   \n",
       "...                       ...                  ...               ...   \n",
       "532506                      1                    1                 3   \n",
       "532507                      1                    1                 1   \n",
       "532508                      1                    2                 3   \n",
       "532509                      1                    1                 4   \n",
       "532510                      1                    1                 4   \n",
       "\n",
       "        dedicacion country  country_id  aovn  items_kept  promo_boxes  \\\n",
       "0               11      ES           2  2109          53            5   \n",
       "1                1      ES           2   274           6            0   \n",
       "2                3      ES           2  1788          44            2   \n",
       "3                2      ES           2   258           6            3   \n",
       "4                1      ES           2   143           5            1   \n",
       "...            ...     ...         ...   ...         ...          ...   \n",
       "532506          14      PT           7   155           4            0   \n",
       "532507           3      ES           2     0           0            1   \n",
       "532508           4      PT           7    10           0            0   \n",
       "532509          13      ES           2     0           0            1   \n",
       "532510          14      ES           2   131           5            1   \n",
       "\n",
       "        number_boxes  days_per_box  average_aovn_box  average_items_box  \n",
       "0                 18     98.705882        117.166667           2.944444  \n",
       "1                  3     30.500000         91.333333           2.000000  \n",
       "2                 14    116.692308        127.714286           3.142857  \n",
       "3                  5    252.250000         51.600000           1.200000  \n",
       "4                  1           NaN        143.000000           5.000000  \n",
       "...              ...           ...               ...                ...  \n",
       "532506             1           NaN        155.000000           4.000000  \n",
       "532507             1           NaN          0.000000           0.000000  \n",
       "532508             1           NaN         10.000000           0.000000  \n",
       "532509             1           NaN          0.000000           0.000000  \n",
       "532510             1           NaN        131.000000           5.000000  \n",
       "\n",
       "[532511 rows x 17 columns]"
      ]
     },
     "execution_count": 26,
     "metadata": {},
     "output_type": "execute_result"
    }
   ],
   "source": [
    "#    - Gasto medio por cajas, número de pedidos y items_kept por caja\n",
    "\n",
    "average_spend_box = average_spend_box.groupby(['user_id', 'age_range_id',\n",
    "                                               'items_kept_first_box', 'subscription_type',\n",
    "                                               'newsletter_subscribed', 'last_price_range_id', \n",
    "                                               'nivel_aventurera', 'dedicacion', 'country',\n",
    "                                               'country_id'], as_index = False).agg({'aovn':'sum', 'items_kept': 'sum',\n",
    "                                                                                     'promo_code_corr': 'sum', 'date_created': 'count', 'days_per_box': 'mean'}).reset_index(drop = True).rename(columns={'promo_code_corr': 'promo_boxes', 'date_created': 'number_boxes'})\n",
    "\n",
    "average_spend_box['average_aovn_box'] = average_spend_box['aovn'] / average_spend_box['number_boxes']\n",
    "\n",
    "average_spend_box['average_items_box'] = average_spend_box['items_kept'] / average_spend_box['number_boxes']\n",
    "\n",
    "average_spend_box\n",
    "\n",
    "# df.groupby(['user_id'], as_index = False)['aovn', 'promo_code_corr'].sum()"
   ]
  },
  {
   "cell_type": "code",
   "execution_count": 27,
   "id": "exclusive-forestry",
   "metadata": {
    "ExecuteTime": {
     "end_time": "2021-05-12T07:01:20.142552Z",
     "start_time": "2021-05-12T07:01:19.129109Z"
    }
   },
   "outputs": [],
   "source": [
    "#clients = df_analysis_box.groupby('user_id').agg({'promo_code_corr': 'sum'}).reset_index().rename(columns={'date_created':'count', 'promo_code_corr':'promo_boxes'})\n",
    "\n",
    "#average_spend_box = pd.merge(average_spend_box, clients, how = 'inner',  on=['user_id'])\n",
    "\n",
    "df_no_promo = df_analysis_box[df_analysis_box.promo_code_corr == 0].reset_index(drop = True)\n",
    "\n",
    "df_no_promo = df_no_promo.groupby('user_id', as_index = False).agg({'items_kept': 'mean', 'aovn': 'sum'}).reset_index(drop = True).rename(columns={'items_kept':'items_kept_promo', 'aovn': 'aovn_promo' })\n",
    "\n",
    "average_spend_box = pd.merge(average_spend_box, df_no_promo, how = 'left',  on=['user_id']) \n",
    "\n",
    "average_spend_box['items_kept_promo'] = average_spend_box['items_kept_promo'].fillna(0)\n",
    "\n",
    "average_spend_box['aovn_promo'] = average_spend_box['aovn_promo'].fillna(0)\n"
   ]
  },
  {
   "cell_type": "code",
   "execution_count": 28,
   "id": "useful-coral",
   "metadata": {
    "ExecuteTime": {
     "end_time": "2021-05-12T07:01:20.189158Z",
     "start_time": "2021-05-12T07:01:20.146537Z"
    }
   },
   "outputs": [
    {
     "data": {
      "text/html": [
       "<div>\n",
       "<style scoped>\n",
       "    .dataframe tbody tr th:only-of-type {\n",
       "        vertical-align: middle;\n",
       "    }\n",
       "\n",
       "    .dataframe tbody tr th {\n",
       "        vertical-align: top;\n",
       "    }\n",
       "\n",
       "    .dataframe thead th {\n",
       "        text-align: right;\n",
       "    }\n",
       "</style>\n",
       "<table border=\"1\" class=\"dataframe\">\n",
       "  <thead>\n",
       "    <tr style=\"text-align: right;\">\n",
       "      <th></th>\n",
       "      <th>user_id</th>\n",
       "      <th>age_range_id</th>\n",
       "      <th>items_kept_first_box</th>\n",
       "      <th>subscription_type</th>\n",
       "      <th>newsletter_subscribed</th>\n",
       "      <th>last_price_range_id</th>\n",
       "      <th>nivel_aventurera</th>\n",
       "      <th>dedicacion</th>\n",
       "      <th>country</th>\n",
       "      <th>country_id</th>\n",
       "      <th>aovn</th>\n",
       "      <th>items_kept</th>\n",
       "      <th>promo_boxes</th>\n",
       "      <th>number_boxes</th>\n",
       "      <th>days_per_box</th>\n",
       "      <th>average_aovn_box</th>\n",
       "      <th>average_items_box</th>\n",
       "      <th>items_kept_promo</th>\n",
       "      <th>aovn_promo</th>\n",
       "    </tr>\n",
       "  </thead>\n",
       "  <tbody>\n",
       "    <tr>\n",
       "      <th>0</th>\n",
       "      <td>11</td>\n",
       "      <td>4</td>\n",
       "      <td>0</td>\n",
       "      <td>1</td>\n",
       "      <td>1</td>\n",
       "      <td>2</td>\n",
       "      <td>4</td>\n",
       "      <td>11</td>\n",
       "      <td>ES</td>\n",
       "      <td>2</td>\n",
       "      <td>2109</td>\n",
       "      <td>53</td>\n",
       "      <td>5</td>\n",
       "      <td>18</td>\n",
       "      <td>98.705882</td>\n",
       "      <td>117.166667</td>\n",
       "      <td>2.944444</td>\n",
       "      <td>3.230769</td>\n",
       "      <td>1621.0</td>\n",
       "    </tr>\n",
       "    <tr>\n",
       "      <th>1</th>\n",
       "      <td>41</td>\n",
       "      <td>6</td>\n",
       "      <td>5</td>\n",
       "      <td>1</td>\n",
       "      <td>1</td>\n",
       "      <td>2</td>\n",
       "      <td>3</td>\n",
       "      <td>1</td>\n",
       "      <td>ES</td>\n",
       "      <td>2</td>\n",
       "      <td>274</td>\n",
       "      <td>6</td>\n",
       "      <td>0</td>\n",
       "      <td>3</td>\n",
       "      <td>30.500000</td>\n",
       "      <td>91.333333</td>\n",
       "      <td>2.000000</td>\n",
       "      <td>2.000000</td>\n",
       "      <td>274.0</td>\n",
       "    </tr>\n",
       "    <tr>\n",
       "      <th>2</th>\n",
       "      <td>43</td>\n",
       "      <td>6</td>\n",
       "      <td>2</td>\n",
       "      <td>1</td>\n",
       "      <td>1</td>\n",
       "      <td>3</td>\n",
       "      <td>3</td>\n",
       "      <td>3</td>\n",
       "      <td>ES</td>\n",
       "      <td>2</td>\n",
       "      <td>1788</td>\n",
       "      <td>44</td>\n",
       "      <td>2</td>\n",
       "      <td>14</td>\n",
       "      <td>116.692308</td>\n",
       "      <td>127.714286</td>\n",
       "      <td>3.142857</td>\n",
       "      <td>3.250000</td>\n",
       "      <td>1555.0</td>\n",
       "    </tr>\n",
       "    <tr>\n",
       "      <th>3</th>\n",
       "      <td>44</td>\n",
       "      <td>3</td>\n",
       "      <td>2</td>\n",
       "      <td>1</td>\n",
       "      <td>1</td>\n",
       "      <td>1</td>\n",
       "      <td>1</td>\n",
       "      <td>2</td>\n",
       "      <td>ES</td>\n",
       "      <td>2</td>\n",
       "      <td>258</td>\n",
       "      <td>6</td>\n",
       "      <td>3</td>\n",
       "      <td>5</td>\n",
       "      <td>252.250000</td>\n",
       "      <td>51.600000</td>\n",
       "      <td>1.200000</td>\n",
       "      <td>1.500000</td>\n",
       "      <td>158.0</td>\n",
       "    </tr>\n",
       "    <tr>\n",
       "      <th>4</th>\n",
       "      <td>46</td>\n",
       "      <td>5</td>\n",
       "      <td>5</td>\n",
       "      <td>1</td>\n",
       "      <td>1</td>\n",
       "      <td>2</td>\n",
       "      <td>5</td>\n",
       "      <td>1</td>\n",
       "      <td>ES</td>\n",
       "      <td>2</td>\n",
       "      <td>143</td>\n",
       "      <td>5</td>\n",
       "      <td>1</td>\n",
       "      <td>1</td>\n",
       "      <td>NaN</td>\n",
       "      <td>143.000000</td>\n",
       "      <td>5.000000</td>\n",
       "      <td>0.000000</td>\n",
       "      <td>0.0</td>\n",
       "    </tr>\n",
       "    <tr>\n",
       "      <th>...</th>\n",
       "      <td>...</td>\n",
       "      <td>...</td>\n",
       "      <td>...</td>\n",
       "      <td>...</td>\n",
       "      <td>...</td>\n",
       "      <td>...</td>\n",
       "      <td>...</td>\n",
       "      <td>...</td>\n",
       "      <td>...</td>\n",
       "      <td>...</td>\n",
       "      <td>...</td>\n",
       "      <td>...</td>\n",
       "      <td>...</td>\n",
       "      <td>...</td>\n",
       "      <td>...</td>\n",
       "      <td>...</td>\n",
       "      <td>...</td>\n",
       "      <td>...</td>\n",
       "      <td>...</td>\n",
       "    </tr>\n",
       "    <tr>\n",
       "      <th>532506</th>\n",
       "      <td>2834775</td>\n",
       "      <td>4</td>\n",
       "      <td>4</td>\n",
       "      <td>1</td>\n",
       "      <td>1</td>\n",
       "      <td>1</td>\n",
       "      <td>3</td>\n",
       "      <td>14</td>\n",
       "      <td>PT</td>\n",
       "      <td>7</td>\n",
       "      <td>155</td>\n",
       "      <td>4</td>\n",
       "      <td>0</td>\n",
       "      <td>1</td>\n",
       "      <td>NaN</td>\n",
       "      <td>155.000000</td>\n",
       "      <td>4.000000</td>\n",
       "      <td>4.000000</td>\n",
       "      <td>155.0</td>\n",
       "    </tr>\n",
       "    <tr>\n",
       "      <th>532507</th>\n",
       "      <td>2834853</td>\n",
       "      <td>3</td>\n",
       "      <td>0</td>\n",
       "      <td>2</td>\n",
       "      <td>1</td>\n",
       "      <td>1</td>\n",
       "      <td>1</td>\n",
       "      <td>3</td>\n",
       "      <td>ES</td>\n",
       "      <td>2</td>\n",
       "      <td>0</td>\n",
       "      <td>0</td>\n",
       "      <td>1</td>\n",
       "      <td>1</td>\n",
       "      <td>NaN</td>\n",
       "      <td>0.000000</td>\n",
       "      <td>0.000000</td>\n",
       "      <td>0.000000</td>\n",
       "      <td>0.0</td>\n",
       "    </tr>\n",
       "    <tr>\n",
       "      <th>532508</th>\n",
       "      <td>2834920</td>\n",
       "      <td>3</td>\n",
       "      <td>0</td>\n",
       "      <td>2</td>\n",
       "      <td>1</td>\n",
       "      <td>2</td>\n",
       "      <td>3</td>\n",
       "      <td>4</td>\n",
       "      <td>PT</td>\n",
       "      <td>7</td>\n",
       "      <td>10</td>\n",
       "      <td>0</td>\n",
       "      <td>0</td>\n",
       "      <td>1</td>\n",
       "      <td>NaN</td>\n",
       "      <td>10.000000</td>\n",
       "      <td>0.000000</td>\n",
       "      <td>0.000000</td>\n",
       "      <td>10.0</td>\n",
       "    </tr>\n",
       "    <tr>\n",
       "      <th>532509</th>\n",
       "      <td>2835147</td>\n",
       "      <td>3</td>\n",
       "      <td>0</td>\n",
       "      <td>1</td>\n",
       "      <td>1</td>\n",
       "      <td>1</td>\n",
       "      <td>4</td>\n",
       "      <td>13</td>\n",
       "      <td>ES</td>\n",
       "      <td>2</td>\n",
       "      <td>0</td>\n",
       "      <td>0</td>\n",
       "      <td>1</td>\n",
       "      <td>1</td>\n",
       "      <td>NaN</td>\n",
       "      <td>0.000000</td>\n",
       "      <td>0.000000</td>\n",
       "      <td>0.000000</td>\n",
       "      <td>0.0</td>\n",
       "    </tr>\n",
       "    <tr>\n",
       "      <th>532510</th>\n",
       "      <td>2835219</td>\n",
       "      <td>7</td>\n",
       "      <td>5</td>\n",
       "      <td>1</td>\n",
       "      <td>1</td>\n",
       "      <td>1</td>\n",
       "      <td>4</td>\n",
       "      <td>14</td>\n",
       "      <td>ES</td>\n",
       "      <td>2</td>\n",
       "      <td>131</td>\n",
       "      <td>5</td>\n",
       "      <td>1</td>\n",
       "      <td>1</td>\n",
       "      <td>NaN</td>\n",
       "      <td>131.000000</td>\n",
       "      <td>5.000000</td>\n",
       "      <td>0.000000</td>\n",
       "      <td>0.0</td>\n",
       "    </tr>\n",
       "  </tbody>\n",
       "</table>\n",
       "<p>532511 rows × 19 columns</p>\n",
       "</div>"
      ],
      "text/plain": [
       "        user_id  age_range_id  items_kept_first_box  subscription_type  \\\n",
       "0            11             4                     0                  1   \n",
       "1            41             6                     5                  1   \n",
       "2            43             6                     2                  1   \n",
       "3            44             3                     2                  1   \n",
       "4            46             5                     5                  1   \n",
       "...         ...           ...                   ...                ...   \n",
       "532506  2834775             4                     4                  1   \n",
       "532507  2834853             3                     0                  2   \n",
       "532508  2834920             3                     0                  2   \n",
       "532509  2835147             3                     0                  1   \n",
       "532510  2835219             7                     5                  1   \n",
       "\n",
       "        newsletter_subscribed  last_price_range_id  nivel_aventurera  \\\n",
       "0                           1                    2                 4   \n",
       "1                           1                    2                 3   \n",
       "2                           1                    3                 3   \n",
       "3                           1                    1                 1   \n",
       "4                           1                    2                 5   \n",
       "...                       ...                  ...               ...   \n",
       "532506                      1                    1                 3   \n",
       "532507                      1                    1                 1   \n",
       "532508                      1                    2                 3   \n",
       "532509                      1                    1                 4   \n",
       "532510                      1                    1                 4   \n",
       "\n",
       "        dedicacion country  country_id  aovn  items_kept  promo_boxes  \\\n",
       "0               11      ES           2  2109          53            5   \n",
       "1                1      ES           2   274           6            0   \n",
       "2                3      ES           2  1788          44            2   \n",
       "3                2      ES           2   258           6            3   \n",
       "4                1      ES           2   143           5            1   \n",
       "...            ...     ...         ...   ...         ...          ...   \n",
       "532506          14      PT           7   155           4            0   \n",
       "532507           3      ES           2     0           0            1   \n",
       "532508           4      PT           7    10           0            0   \n",
       "532509          13      ES           2     0           0            1   \n",
       "532510          14      ES           2   131           5            1   \n",
       "\n",
       "        number_boxes  days_per_box  average_aovn_box  average_items_box  \\\n",
       "0                 18     98.705882        117.166667           2.944444   \n",
       "1                  3     30.500000         91.333333           2.000000   \n",
       "2                 14    116.692308        127.714286           3.142857   \n",
       "3                  5    252.250000         51.600000           1.200000   \n",
       "4                  1           NaN        143.000000           5.000000   \n",
       "...              ...           ...               ...                ...   \n",
       "532506             1           NaN        155.000000           4.000000   \n",
       "532507             1           NaN          0.000000           0.000000   \n",
       "532508             1           NaN         10.000000           0.000000   \n",
       "532509             1           NaN          0.000000           0.000000   \n",
       "532510             1           NaN        131.000000           5.000000   \n",
       "\n",
       "        items_kept_promo  aovn_promo  \n",
       "0               3.230769      1621.0  \n",
       "1               2.000000       274.0  \n",
       "2               3.250000      1555.0  \n",
       "3               1.500000       158.0  \n",
       "4               0.000000         0.0  \n",
       "...                  ...         ...  \n",
       "532506          4.000000       155.0  \n",
       "532507          0.000000         0.0  \n",
       "532508          0.000000        10.0  \n",
       "532509          0.000000         0.0  \n",
       "532510          0.000000         0.0  \n",
       "\n",
       "[532511 rows x 19 columns]"
      ]
     },
     "execution_count": 28,
     "metadata": {},
     "output_type": "execute_result"
    }
   ],
   "source": [
    "average_spend_box"
   ]
  },
  {
   "cell_type": "code",
   "execution_count": 29,
   "id": "established-dynamics",
   "metadata": {
    "ExecuteTime": {
     "end_time": "2021-05-12T07:01:20.237100Z",
     "start_time": "2021-05-12T07:01:20.193359Z"
    }
   },
   "outputs": [],
   "source": [
    "average_spend_box['age_range_id'] = average_spend_box['age_range_id'].astype(int)\n",
    "\n",
    "average_spend_box['items_kept_first_box'] = average_spend_box['items_kept_first_box'].astype(int)\n",
    "\n",
    "average_spend_box['subscription_type'] = average_spend_box['subscription_type'].astype(int)\n",
    "\n",
    "average_spend_box['newsletter_subscribed'] = average_spend_box['newsletter_subscribed'].astype(int)\n",
    "\n",
    "average_spend_box['last_price_range_id'] = average_spend_box['last_price_range_id'].astype(int)\n",
    "\n",
    "average_spend_box['nivel_aventurera'] = average_spend_box['nivel_aventurera'].astype(int)\n"
   ]
  },
  {
   "cell_type": "code",
   "execution_count": 30,
   "id": "hairy-financing",
   "metadata": {
    "ExecuteTime": {
     "end_time": "2021-05-12T07:01:20.315018Z",
     "start_time": "2021-05-12T07:01:20.240060Z"
    }
   },
   "outputs": [],
   "source": [
    "average_spend_box['dedicacion'] = average_spend_box['dedicacion'].astype(int)\n",
    "\n",
    "average_spend_box['country_id'] = average_spend_box['country_id'].astype(int)\n",
    "\n",
    "average_spend_box['aovn'] = average_spend_box['aovn'].astype(int)\n",
    "\n",
    "average_spend_box['items_kept'] = average_spend_box['items_kept'].astype(int)\n",
    "\n",
    "average_spend_box['promo_boxes'] = average_spend_box['promo_boxes'].astype(int)\n",
    "\n",
    "average_spend_box['number_boxes'] = average_spend_box['number_boxes'].astype(int)\n",
    "\n",
    "average_spend_box['average_aovn_box'] = average_spend_box['average_aovn_box'].astype(int)\n",
    "\n",
    "average_spend_box['average_items_box'] = average_spend_box['average_items_box'].astype(int)\n",
    "\n",
    "average_spend_box['items_kept_promo'] = average_spend_box['items_kept_promo'].astype(int)"
   ]
  },
  {
   "cell_type": "code",
   "execution_count": 31,
   "id": "spoken-ivory",
   "metadata": {
    "ExecuteTime": {
     "end_time": "2021-05-12T07:01:20.330975Z",
     "start_time": "2021-05-12T07:01:20.317013Z"
    }
   },
   "outputs": [],
   "source": [
    "average_spend_box_model = average_spend_box"
   ]
  },
  {
   "cell_type": "code",
   "execution_count": 32,
   "id": "confident-vegetation",
   "metadata": {
    "ExecuteTime": {
     "end_time": "2021-05-12T07:01:20.347055Z",
     "start_time": "2021-05-12T07:01:20.332971Z"
    }
   },
   "outputs": [
    {
     "data": {
      "text/plain": [
       "0         2\n",
       "1         2\n",
       "2         3\n",
       "3         1\n",
       "4         5\n",
       "         ..\n",
       "532506    4\n",
       "532507    0\n",
       "532508    0\n",
       "532509    0\n",
       "532510    5\n",
       "Name: average_items_box, Length: 532511, dtype: int32"
      ]
     },
     "execution_count": 32,
     "metadata": {},
     "output_type": "execute_result"
    }
   ],
   "source": [
    "average_spend_box_model['average_items_box']"
   ]
  },
  {
   "cell_type": "code",
   "execution_count": 33,
   "id": "devoted-klein",
   "metadata": {
    "ExecuteTime": {
     "end_time": "2021-05-12T07:01:21.046375Z",
     "start_time": "2021-05-12T07:01:20.350580Z"
    }
   },
   "outputs": [
    {
     "name": "stdout",
     "output_type": "stream",
     "text": [
      "[[0. 1. 0. ... 0. 0. 0.]\n",
      " [0. 1. 0. ... 0. 0. 0.]\n",
      " [0. 1. 0. ... 0. 0. 0.]\n",
      " ...\n",
      " [0. 0. 0. ... 0. 1. 0.]\n",
      " [0. 1. 0. ... 0. 0. 0.]\n",
      " [0. 1. 0. ... 0. 0. 0.]]\n"
     ]
    }
   ],
   "source": [
    "from sklearn.preprocessing import LabelEncoder\n",
    "from sklearn.preprocessing import OneHotEncoder\n",
    "\n",
    "# define example\n",
    "data = average_spend_box_model['country']\n",
    "values = np.array(data)\n",
    "\n",
    "label_encoder = LabelEncoder()\n",
    "integer_encoded = label_encoder.fit_transform(values)\n",
    "\n",
    "onehot_encoder = OneHotEncoder(sparse=False)\n",
    "integer_encoded = integer_encoded.reshape(len(integer_encoded), 1)\n",
    "onehot_encoded = onehot_encoder.fit_transform(integer_encoded)\n",
    "print(onehot_encoded)\n",
    "\n",
    "average_spend_box_model['column_merge'] = average_spend_box_model.index\n",
    "\n",
    "onehot_encoded = pd.DataFrame(onehot_encoded)\n",
    "\n",
    "onehot_encoded['column_merge'] = onehot_encoded.index\n",
    "\n",
    "onehot_encoded = onehot_encoded.rename(columns={0: 'country_0', 1: 'country_1', 2: 'country_2', 3:'country_3',\n",
    "                               4: 'country_4', 5: 'country_5', 6: 'country_6'})\n",
    "\n",
    "average_spend_box_model = pd.merge(average_spend_box_model, onehot_encoded, how = 'inner',  on=['column_merge'])\n",
    "\n",
    "del(data, values, onehot_encoder, integer_encoded)"
   ]
  },
  {
   "cell_type": "code",
   "execution_count": 35,
   "id": "friendly-optimization",
   "metadata": {
    "ExecuteTime": {
     "end_time": "2021-05-12T07:01:32.259351Z",
     "start_time": "2021-05-12T07:01:32.248758Z"
    }
   },
   "outputs": [
    {
     "data": {
      "text/plain": [
       "Index(['user_id', 'age_range_id', 'items_kept_first_box', 'subscription_type',\n",
       "       'newsletter_subscribed', 'last_price_range_id', 'nivel_aventurera',\n",
       "       'dedicacion', 'country', 'country_id', 'aovn', 'items_kept',\n",
       "       'promo_boxes', 'number_boxes', 'days_per_box', 'average_aovn_box',\n",
       "       'average_items_box', 'items_kept_promo', 'aovn_promo', 'column_merge',\n",
       "       'country_0', 'country_1', 'country_2', 'country_3', 'country_4',\n",
       "       'country_5', 'country_6'],\n",
       "      dtype='object')"
      ]
     },
     "execution_count": 35,
     "metadata": {},
     "output_type": "execute_result"
    }
   ],
   "source": [
    "average_spend_box_model.columns"
   ]
  },
  {
   "cell_type": "code",
   "execution_count": 36,
   "id": "portuguese-florida",
   "metadata": {
    "ExecuteTime": {
     "end_time": "2021-05-12T07:01:32.521208Z",
     "start_time": "2021-05-12T07:01:32.261609Z"
    }
   },
   "outputs": [],
   "source": [
    "import sklearn\n",
    "from sklearn.model_selection import train_test_split\n",
    "\n",
    "X=average_spend_box_model[['items_kept_first_box', 'aovn', 'number_boxes', 'average_aovn_box']] \n",
    "#, lo pongo? mejora la predicción, pero si una clienta no ha tenido nunca promos, aprende que es 0 \n",
    "# 'days_per_box', items_kept_promo\n",
    "y=average_spend_box_model['average_items_box']\n",
    "\n",
    "X_train, X_test, y_train, y_test = train_test_split(X, y, test_size=0.30)"
   ]
  },
  {
   "cell_type": "code",
   "execution_count": 37,
   "id": "chief-mercury",
   "metadata": {
    "ExecuteTime": {
     "end_time": "2021-05-12T07:01:52.682127Z",
     "start_time": "2021-05-12T07:01:32.524203Z"
    },
    "scrolled": true
   },
   "outputs": [],
   "source": [
    "from sklearn.ensemble import RandomForestClassifier\n",
    "\n",
    "clf=RandomForestClassifier(n_estimators=50, random_state=1)\n",
    "\n",
    "\n",
    "\n",
    "clf.fit(X_train,y_train)\n",
    "\n",
    "y_pred=clf.predict(X_test)"
   ]
  },
  {
   "cell_type": "code",
   "execution_count": 38,
   "id": "instrumental-drinking",
   "metadata": {
    "ExecuteTime": {
     "end_time": "2021-05-12T07:01:52.712662Z",
     "start_time": "2021-05-12T07:01:52.684065Z"
    },
    "scrolled": true
   },
   "outputs": [
    {
     "name": "stdout",
     "output_type": "stream",
     "text": [
      "Accuracy: 0.8981621743430525\n",
      "Mean Absolute Error: 0.1049175607496526\n",
      "Mean Squared Error: 0.11118970417016162\n",
      "Root Mean Squared Error: 0.33345120208234613\n"
     ]
    }
   ],
   "source": [
    "from sklearn import metrics\n",
    "# Model Accuracy, how often is the classifier correct?\n",
    "print(\"Accuracy:\",metrics.accuracy_score(y_test, y_pred))\n",
    "\n",
    "print('Mean Absolute Error:', metrics.mean_absolute_error(y_test, y_pred))\n",
    "print('Mean Squared Error:', metrics.mean_squared_error(y_test, y_pred))\n",
    "print('Root Mean Squared Error:', np.sqrt(metrics.mean_squared_error(y_test, y_pred)))"
   ]
  },
  {
   "cell_type": "code",
   "execution_count": 39,
   "id": "necessary-flooring",
   "metadata": {
    "ExecuteTime": {
     "end_time": "2021-05-12T07:01:52.728525Z",
     "start_time": "2021-05-12T07:01:52.714714Z"
    }
   },
   "outputs": [
    {
     "data": {
      "text/plain": [
       "\"feature_columns = average_spend_box_model[['age_range_id', 'items_kept_first_box', 'subscription_type',\\n       'newsletter_subscribed', 'last_price_range_id', 'nivel_aventurera',\\n       'dedicacion', 'country_id', 'aovn', 'items_kept', 'number_boxes',\\n       'average_aovn_box', 'average_items_box']] .columns \""
      ]
     },
     "execution_count": 39,
     "metadata": {},
     "output_type": "execute_result"
    }
   ],
   "source": [
    "'''feature_columns = average_spend_box_model[['age_range_id', 'items_kept_first_box', 'subscription_type',\n",
    "       'newsletter_subscribed', 'last_price_range_id', 'nivel_aventurera',\n",
    "       'dedicacion', 'country_id', 'aovn', 'items_kept', 'number_boxes',\n",
    "       'average_aovn_box', 'average_items_box']] .columns '''"
   ]
  },
  {
   "cell_type": "code",
   "execution_count": 40,
   "id": "involved-landing",
   "metadata": {
    "ExecuteTime": {
     "end_time": "2021-05-12T07:01:52.744231Z",
     "start_time": "2021-05-12T07:01:52.731271Z"
    }
   },
   "outputs": [],
   "source": [
    "feature_columns = average_spend_box_model[['items_kept_first_box', 'aovn', 'number_boxes', 'average_aovn_box']].columns"
   ]
  },
  {
   "cell_type": "code",
   "execution_count": 41,
   "id": "moved-image",
   "metadata": {
    "ExecuteTime": {
     "end_time": "2021-05-12T07:01:52.790112Z",
     "start_time": "2021-05-12T07:01:52.747223Z"
    }
   },
   "outputs": [
    {
     "data": {
      "text/plain": [
       "average_aovn_box        0.488133\n",
       "items_kept_first_box    0.266689\n",
       "aovn                    0.163312\n",
       "number_boxes            0.081866\n",
       "dtype: float64"
      ]
     },
     "execution_count": 41,
     "metadata": {},
     "output_type": "execute_result"
    }
   ],
   "source": [
    "feature_imp = pd.Series(clf.feature_importances_,index=feature_columns).sort_values(ascending=False)\n",
    "\n",
    "feature_imp"
   ]
  },
  {
   "cell_type": "code",
   "execution_count": 42,
   "id": "binary-height",
   "metadata": {
    "ExecuteTime": {
     "end_time": "2021-05-12T07:01:52.944025Z",
     "start_time": "2021-05-12T07:01:52.796095Z"
    }
   },
   "outputs": [
    {
     "data": {
      "text/plain": [
       "array([[50819,  1240,     0,     1,     0,     0],\n",
       "       [ 1393, 30762,  2068,    60,     3,     0],\n",
       "       [    0,  2087, 23324,  2086,   110,     3],\n",
       "       [    0,    16,  1986, 13912,  1462,   186],\n",
       "       [    0,     1,    64,  1352,  5299,  1351],\n",
       "       [    0,     0,     1,    38,   761, 19369]], dtype=int64)"
      ]
     },
     "execution_count": 42,
     "metadata": {},
     "output_type": "execute_result"
    }
   ],
   "source": [
    "from sklearn.metrics import confusion_matrix\n",
    "\n",
    "confusion_matrix(y_test, y_pred)"
   ]
  },
  {
   "cell_type": "code",
   "execution_count": 43,
   "id": "logical-daniel",
   "metadata": {
    "ExecuteTime": {
     "end_time": "2021-05-12T07:01:52.959337Z",
     "start_time": "2021-05-12T07:01:52.949251Z"
    }
   },
   "outputs": [
    {
     "data": {
      "text/plain": [
       "['age_range_id',\n",
       " 'items_kept_first_box',\n",
       " 'subscription_type',\n",
       " 'newsletter_subscribed',\n",
       " 'last_price_range_id',\n",
       " 'nivel_aventurera',\n",
       " 'dedicacion',\n",
       " 'country_id',\n",
       " 'aovn',\n",
       " 'items_kept',\n",
       " 'number_boxes',\n",
       " 'average_aovn_box',\n",
       " 'promo_boxes',\n",
       " 'average_items_box']"
      ]
     },
     "execution_count": 43,
     "metadata": {},
     "output_type": "execute_result"
    }
   ],
   "source": [
    "['age_range_id', 'items_kept_first_box', 'subscription_type',\n",
    "       'newsletter_subscribed', 'last_price_range_id', 'nivel_aventurera',\n",
    "       'dedicacion', 'country_id', 'aovn', 'items_kept',\n",
    "       'number_boxes', 'average_aovn_box', 'promo_boxes',\n",
    "       'average_items_box']"
   ]
  },
  {
   "cell_type": "code",
   "execution_count": 44,
   "id": "infectious-perry",
   "metadata": {
    "ExecuteTime": {
     "end_time": "2021-05-12T07:01:52.974941Z",
     "start_time": "2021-05-12T07:01:52.963970Z"
    }
   },
   "outputs": [
    {
     "data": {
      "text/plain": [
       "['items_kept_first_box',\n",
       " 'aovn',\n",
       " 'items_kept',\n",
       " 'number_boxes',\n",
       " 'average_aovn_box',\n",
       " 'average_items_box']"
      ]
     },
     "execution_count": 44,
     "metadata": {},
     "output_type": "execute_result"
    }
   ],
   "source": [
    "['items_kept_first_box', 'aovn', 'items_kept', \n",
    " 'number_boxes', 'average_aovn_box', 'average_items_box']"
   ]
  },
  {
   "cell_type": "code",
   "execution_count": 45,
   "id": "rotary-rebel",
   "metadata": {
    "ExecuteTime": {
     "end_time": "2021-05-12T10:00:29.461980Z",
     "start_time": "2021-05-12T07:01:52.978086Z"
    }
   },
   "outputs": [],
   "source": [
    "average_spend_box['items_prediction'] = None\n",
    "\n",
    "len_average_spend_box = len(average_spend_box)\n",
    "\n",
    "for i in range(0, len_average_spend_box):\n",
    "\n",
    "    prediction = clf.predict([[average_spend_box['items_kept_first_box'].loc[i], \n",
    "                  average_spend_box['aovn'].loc[i], \n",
    "                  average_spend_box['number_boxes'].loc[i], \n",
    "                  average_spend_box['average_aovn_box'].loc[i]]])\n",
    "    \n",
    "    average_spend_box.loc[i, 'items_prediction'] = prediction\n",
    "    \n",
    "     "
   ]
  },
  {
   "cell_type": "code",
   "execution_count": 46,
   "id": "permanent-dispute",
   "metadata": {
    "ExecuteTime": {
     "end_time": "2021-05-12T10:00:32.817948Z",
     "start_time": "2021-05-12T10:00:29.467879Z"
    }
   },
   "outputs": [],
   "source": [
    "average_spend_box.to_csv('model_item_promo_boxes.csv')"
   ]
  }
 ],
 "metadata": {
  "kernelspec": {
   "display_name": "Python 3.9.6 64-bit",
   "language": "python",
   "name": "python3"
  },
  "language_info": {
   "codemirror_mode": {
    "name": "ipython",
    "version": 3
   },
   "file_extension": ".py",
   "mimetype": "text/x-python",
   "name": "python",
   "nbconvert_exporter": "python",
   "pygments_lexer": "ipython3",
   "version": "3.9.6"
  },
  "varInspector": {
   "cols": {
    "lenName": 16,
    "lenType": 16,
    "lenVar": 40
   },
   "kernels_config": {
    "python": {
     "delete_cmd_postfix": "",
     "delete_cmd_prefix": "del ",
     "library": "var_list.py",
     "varRefreshCmd": "print(var_dic_list())"
    },
    "r": {
     "delete_cmd_postfix": ") ",
     "delete_cmd_prefix": "rm(",
     "library": "var_list.r",
     "varRefreshCmd": "cat(var_dic_list()) "
    }
   },
   "position": {
    "height": "391px",
    "left": "1523px",
    "right": "20px",
    "top": "110px",
    "width": "378px"
   },
   "types_to_exclude": [
    "module",
    "function",
    "builtin_function_or_method",
    "instance",
    "_Feature"
   ],
   "window_display": true
  },
  "vscode": {
   "interpreter": {
    "hash": "52634da84371cba311ea128a5ea7cdc41ff074b781779e754b270ff9f8153cee"
   }
  }
 },
 "nbformat": 4,
 "nbformat_minor": 5
}
