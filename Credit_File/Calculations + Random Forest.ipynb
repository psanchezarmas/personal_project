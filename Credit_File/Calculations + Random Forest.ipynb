{
 "cells": [
  {
   "cell_type": "code",
   "execution_count": 1,
   "id": "d0bc85fa",
   "metadata": {},
   "outputs": [],
   "source": [
    "import pandas as pd\n",
    "\n",
    "import sklearn\n",
    "from sklearn.model_selection import train_test_split\n",
    "from sklearn.preprocessing import LabelEncoder\n",
    "from sklearn.preprocessing import OneHotEncoder\n",
    "import numpy as np"
   ]
  },
  {
   "cell_type": "code",
   "execution_count": 2,
   "id": "46504920",
   "metadata": {},
   "outputs": [],
   "source": [
    "df = pd.read_csv('BA_dataset.csv')"
   ]
  },
  {
   "cell_type": "code",
   "execution_count": 3,
   "id": "3939344a",
   "metadata": {},
   "outputs": [],
   "source": [
    "anual_rate =  0.07738 \n",
    "\n",
    "monthly_rate =  ((1 + anual_rate) ** (1/12)) - 1"
   ]
  },
  {
   "cell_type": "code",
   "execution_count": 4,
   "id": "4bd30798",
   "metadata": {},
   "outputs": [
    {
     "data": {
      "text/html": [
       "<div>\n",
       "<style scoped>\n",
       "    .dataframe tbody tr th:only-of-type {\n",
       "        vertical-align: middle;\n",
       "    }\n",
       "\n",
       "    .dataframe tbody tr th {\n",
       "        vertical-align: top;\n",
       "    }\n",
       "\n",
       "    .dataframe thead th {\n",
       "        text-align: right;\n",
       "    }\n",
       "</style>\n",
       "<table border=\"1\" class=\"dataframe\">\n",
       "  <thead>\n",
       "    <tr style=\"text-align: right;\">\n",
       "      <th></th>\n",
       "      <th>Unnamed: 0</th>\n",
       "      <th>purpose</th>\n",
       "      <th>terms</th>\n",
       "      <th>interest_rate</th>\n",
       "      <th>risk_type_original</th>\n",
       "      <th>principal_amount</th>\n",
       "      <th>churn</th>\n",
       "      <th>company_id</th>\n",
       "      <th>disbursed_date</th>\n",
       "      <th>age</th>\n",
       "      <th>monthly_income</th>\n",
       "    </tr>\n",
       "  </thead>\n",
       "  <tbody>\n",
       "    <tr>\n",
       "      <th>0</th>\n",
       "      <td>11130</td>\n",
       "      <td>Payment of Utilities</td>\n",
       "      <td>1</td>\n",
       "      <td>0.00</td>\n",
       "      <td>F</td>\n",
       "      <td>3700.000000</td>\n",
       "      <td>1</td>\n",
       "      <td>576</td>\n",
       "      <td>3</td>\n",
       "      <td>44.0</td>\n",
       "      <td>16600.0</td>\n",
       "    </tr>\n",
       "    <tr>\n",
       "      <th>1</th>\n",
       "      <td>4749</td>\n",
       "      <td>Home Repairs and Improvement</td>\n",
       "      <td>1</td>\n",
       "      <td>0.00</td>\n",
       "      <td>F</td>\n",
       "      <td>2000.000000</td>\n",
       "      <td>1</td>\n",
       "      <td>119</td>\n",
       "      <td>1</td>\n",
       "      <td>27.0</td>\n",
       "      <td>10920.0</td>\n",
       "    </tr>\n",
       "    <tr>\n",
       "      <th>2</th>\n",
       "      <td>7058</td>\n",
       "      <td>Home Repairs and Improvement</td>\n",
       "      <td>1</td>\n",
       "      <td>0.00</td>\n",
       "      <td>F</td>\n",
       "      <td>4700.000000</td>\n",
       "      <td>0</td>\n",
       "      <td>576</td>\n",
       "      <td>3</td>\n",
       "      <td>28.0</td>\n",
       "      <td>23400.0</td>\n",
       "    </tr>\n",
       "    <tr>\n",
       "      <th>3</th>\n",
       "      <td>11132</td>\n",
       "      <td>Home Repairs and Improvement</td>\n",
       "      <td>1</td>\n",
       "      <td>0.00</td>\n",
       "      <td>F</td>\n",
       "      <td>4600.000000</td>\n",
       "      <td>1</td>\n",
       "      <td>576</td>\n",
       "      <td>2</td>\n",
       "      <td>25.0</td>\n",
       "      <td>10000.0</td>\n",
       "    </tr>\n",
       "    <tr>\n",
       "      <th>4</th>\n",
       "      <td>5492</td>\n",
       "      <td>Hospitalization In-patient Expenses</td>\n",
       "      <td>1</td>\n",
       "      <td>0.00</td>\n",
       "      <td>F</td>\n",
       "      <td>5200.000000</td>\n",
       "      <td>0</td>\n",
       "      <td>967</td>\n",
       "      <td>1</td>\n",
       "      <td>33.0</td>\n",
       "      <td>25000.0</td>\n",
       "    </tr>\n",
       "    <tr>\n",
       "      <th>...</th>\n",
       "      <td>...</td>\n",
       "      <td>...</td>\n",
       "      <td>...</td>\n",
       "      <td>...</td>\n",
       "      <td>...</td>\n",
       "      <td>...</td>\n",
       "      <td>...</td>\n",
       "      <td>...</td>\n",
       "      <td>...</td>\n",
       "      <td>...</td>\n",
       "      <td>...</td>\n",
       "    </tr>\n",
       "    <tr>\n",
       "      <th>995</th>\n",
       "      <td>281</td>\n",
       "      <td>Medical Outpatient Expenses</td>\n",
       "      <td>36</td>\n",
       "      <td>11.22</td>\n",
       "      <td>D</td>\n",
       "      <td>50000.000000</td>\n",
       "      <td>0</td>\n",
       "      <td>198</td>\n",
       "      <td>1</td>\n",
       "      <td>30.0</td>\n",
       "      <td>25000.0</td>\n",
       "    </tr>\n",
       "    <tr>\n",
       "      <th>996</th>\n",
       "      <td>9780</td>\n",
       "      <td>Home Repairs and Improvement</td>\n",
       "      <td>36</td>\n",
       "      <td>17.30</td>\n",
       "      <td>A</td>\n",
       "      <td>123600.000001</td>\n",
       "      <td>0</td>\n",
       "      <td>905</td>\n",
       "      <td>1</td>\n",
       "      <td>36.0</td>\n",
       "      <td>13694.0</td>\n",
       "    </tr>\n",
       "    <tr>\n",
       "      <th>997</th>\n",
       "      <td>10419</td>\n",
       "      <td>Home Repairs and Improvement</td>\n",
       "      <td>36</td>\n",
       "      <td>17.30</td>\n",
       "      <td>B</td>\n",
       "      <td>90000.000000</td>\n",
       "      <td>0</td>\n",
       "      <td>318</td>\n",
       "      <td>2</td>\n",
       "      <td>23.0</td>\n",
       "      <td>16000.0</td>\n",
       "    </tr>\n",
       "    <tr>\n",
       "      <th>998</th>\n",
       "      <td>10411</td>\n",
       "      <td>Purchase of Household Appliances &amp; Furniture</td>\n",
       "      <td>36</td>\n",
       "      <td>64.01</td>\n",
       "      <td>NaN</td>\n",
       "      <td>50000.000000</td>\n",
       "      <td>0</td>\n",
       "      <td>897</td>\n",
       "      <td>3</td>\n",
       "      <td>30.0</td>\n",
       "      <td>8000.0</td>\n",
       "    </tr>\n",
       "    <tr>\n",
       "      <th>999</th>\n",
       "      <td>15261</td>\n",
       "      <td>Payment of Utilities</td>\n",
       "      <td>36</td>\n",
       "      <td>44.04</td>\n",
       "      <td>A</td>\n",
       "      <td>47100.000001</td>\n",
       "      <td>0</td>\n",
       "      <td>1106</td>\n",
       "      <td>2</td>\n",
       "      <td>36.0</td>\n",
       "      <td>29150.0</td>\n",
       "    </tr>\n",
       "  </tbody>\n",
       "</table>\n",
       "<p>1000 rows × 11 columns</p>\n",
       "</div>"
      ],
      "text/plain": [
       "     Unnamed: 0                                       purpose  terms  \\\n",
       "0         11130                          Payment of Utilities      1   \n",
       "1          4749                  Home Repairs and Improvement      1   \n",
       "2          7058                  Home Repairs and Improvement      1   \n",
       "3         11132                  Home Repairs and Improvement      1   \n",
       "4          5492           Hospitalization In-patient Expenses      1   \n",
       "..          ...                                           ...    ...   \n",
       "995         281                   Medical Outpatient Expenses     36   \n",
       "996        9780                  Home Repairs and Improvement     36   \n",
       "997       10419                  Home Repairs and Improvement     36   \n",
       "998       10411  Purchase of Household Appliances & Furniture     36   \n",
       "999       15261                          Payment of Utilities     36   \n",
       "\n",
       "     interest_rate risk_type_original  principal_amount  churn  company_id  \\\n",
       "0             0.00                  F       3700.000000      1         576   \n",
       "1             0.00                  F       2000.000000      1         119   \n",
       "2             0.00                  F       4700.000000      0         576   \n",
       "3             0.00                  F       4600.000000      1         576   \n",
       "4             0.00                  F       5200.000000      0         967   \n",
       "..             ...                ...               ...    ...         ...   \n",
       "995          11.22                  D      50000.000000      0         198   \n",
       "996          17.30                  A     123600.000001      0         905   \n",
       "997          17.30                  B      90000.000000      0         318   \n",
       "998          64.01                NaN      50000.000000      0         897   \n",
       "999          44.04                  A      47100.000001      0        1106   \n",
       "\n",
       "     disbursed_date   age  monthly_income  \n",
       "0                 3  44.0         16600.0  \n",
       "1                 1  27.0         10920.0  \n",
       "2                 3  28.0         23400.0  \n",
       "3                 2  25.0         10000.0  \n",
       "4                 1  33.0         25000.0  \n",
       "..              ...   ...             ...  \n",
       "995               1  30.0         25000.0  \n",
       "996               1  36.0         13694.0  \n",
       "997               2  23.0         16000.0  \n",
       "998               3  30.0          8000.0  \n",
       "999               2  36.0         29150.0  \n",
       "\n",
       "[1000 rows x 11 columns]"
      ]
     },
     "execution_count": 4,
     "metadata": {},
     "output_type": "execute_result"
    }
   ],
   "source": [
    "df#['monthly_income'].sum()"
   ]
  },
  {
   "cell_type": "code",
   "execution_count": 5,
   "id": "a962e585",
   "metadata": {},
   "outputs": [],
   "source": [
    "df['interest_rate'] = df['interest_rate'] / 100\n"
   ]
  },
  {
   "cell_type": "code",
   "execution_count": 6,
   "id": "a2a30895",
   "metadata": {},
   "outputs": [],
   "source": [
    "# As we understand it is being charged on a monthly basis, we calculate the monthly interest rate and calculate the amount we \n",
    "# get per month\n",
    "\n",
    "df['monthly_interest_rate'] =  ((1 + df['interest_rate']) ** (1/12)) - 1"
   ]
  },
  {
   "cell_type": "code",
   "execution_count": 7,
   "id": "393e0a75",
   "metadata": {},
   "outputs": [],
   "source": [
    "#Cf= C (1+i)^n\n",
    "\n",
    "df['principal_amount_final'] = (df['principal_amount']) * ((1 + df['monthly_interest_rate'])**df['disbursed_date'])"
   ]
  },
  {
   "cell_type": "code",
   "execution_count": 8,
   "id": "c5933f4f",
   "metadata": {},
   "outputs": [],
   "source": [
    "#First thing we need to calculate is the NPV (Net present value) of each loan. We assume a current interest rate of 0%"
   ]
  },
  {
   "cell_type": "code",
   "execution_count": 9,
   "id": "ccb9a291",
   "metadata": {},
   "outputs": [],
   "source": [
    "df['NPV'] = df['principal_amount_final'] / (1 + monthly_rate ) ** df['disbursed_date']"
   ]
  },
  {
   "cell_type": "code",
   "execution_count": 10,
   "id": "db7c925e",
   "metadata": {},
   "outputs": [
    {
     "name": "stderr",
     "output_type": "stream",
     "text": [
      "C:\\Users\\CALVIC~1\\AppData\\Local\\Temp/ipykernel_9600/4219748271.py:5: SettingWithCopyWarning: \n",
      "A value is trying to be set on a copy of a slice from a DataFrame.\n",
      "Try using .loc[row_indexer,col_indexer] = value instead\n",
      "\n",
      "See the caveats in the documentation: https://pandas.pydata.org/pandas-docs/stable/user_guide/indexing.html#returning-a-view-versus-a-copy\n",
      "  df_churned['NPV'] = df_churned['principal_amount'] * (1 + monthly_rate)\n"
     ]
    }
   ],
   "source": [
    "# we put the NPV of churned customers to 0, as they are churned\n",
    "\n",
    "df_churned = df[df.churn == 1]\n",
    "\n",
    "df_churned['NPV'] = df_churned['principal_amount'] * (1 + monthly_rate)\n",
    "\n",
    "df_no_churned = df[df.churn == 0]\n",
    "\n",
    "df = df_churned.append(df_no_churned)\n",
    "\n",
    "del(df_churned, df_no_churned)"
   ]
  },
  {
   "cell_type": "code",
   "execution_count": 11,
   "id": "1bdfb5fe",
   "metadata": {},
   "outputs": [],
   "source": [
    "df['profit'] = df['NPV'] - df['principal_amount']"
   ]
  },
  {
   "cell_type": "code",
   "execution_count": 12,
   "id": "44ea2c04",
   "metadata": {},
   "outputs": [],
   "source": [
    "df.to_csv('calculated.csv', sep = \";\")"
   ]
  },
  {
   "cell_type": "code",
   "execution_count": 13,
   "id": "c0ec64ef",
   "metadata": {},
   "outputs": [],
   "source": [
    "# from here, we apply the random forest algorithm to classify the customers if they are going to be churn or not. "
   ]
  },
  {
   "cell_type": "code",
   "execution_count": 14,
   "id": "7700e5c4",
   "metadata": {},
   "outputs": [
    {
     "data": {
      "text/plain": [
       "Index(['Unnamed: 0', 'purpose', 'terms', 'interest_rate', 'risk_type_original',\n",
       "       'principal_amount', 'churn', 'company_id', 'disbursed_date', 'age',\n",
       "       'monthly_income', 'monthly_interest_rate', 'principal_amount_final',\n",
       "       'NPV', 'profit'],\n",
       "      dtype='object')"
      ]
     },
     "execution_count": 14,
     "metadata": {},
     "output_type": "execute_result"
    }
   ],
   "source": [
    "df.columns"
   ]
  },
  {
   "cell_type": "code",
   "execution_count": 15,
   "id": "a818d766",
   "metadata": {},
   "outputs": [
    {
     "name": "stdout",
     "output_type": "stream",
     "text": [
      "[[0. 0. 0. ... 0. 0. 0.]\n",
      " [0. 0. 0. ... 0. 0. 0.]\n",
      " [0. 0. 0. ... 0. 0. 0.]\n",
      " ...\n",
      " [0. 0. 0. ... 0. 0. 0.]\n",
      " [0. 0. 0. ... 0. 1. 0.]\n",
      " [0. 0. 0. ... 0. 0. 0.]]\n"
     ]
    }
   ],
   "source": [
    "\n",
    "# define example\n",
    "data = df['purpose']\n",
    "values = np.array(data)\n",
    "\n",
    "label_encoder = LabelEncoder()\n",
    "integer_encoded = label_encoder.fit_transform(values)\n",
    "\n",
    "onehot_encoder = OneHotEncoder(sparse=False)\n",
    "integer_encoded = integer_encoded.reshape(len(integer_encoded), 1)\n",
    "onehot_encoded = onehot_encoder.fit_transform(integer_encoded)\n",
    "print(onehot_encoded)\n",
    "\n",
    "df['column_merge'] = df.index\n",
    "\n",
    "onehot_encoded = pd.DataFrame(onehot_encoded)\n",
    "\n",
    "onehot_encoded['column_merge'] = onehot_encoded.index\n",
    "\n",
    "onehot_encoded = onehot_encoded.rename(columns={0: 'purpose_0', 1: 'purpose_1', 2: 'purpose_2', 3:'purpose_3',\n",
    "                               4: 'purpose_4', 5: 'purpose_5', 6: 'purpose_6', 7: 'purpose_7', 8: 'purpose_8', 9: 'purpose_9',\n",
    "                               10: 'purpose_10', 11: 'purpose_11', 12: 'purpose_12', 13: 'purpose_13', 14: 'purpose_14',\n",
    "                               15: 'purpose_15', 16: 'purpose_16', 17: 'purpose_17'})\n",
    "\n",
    "df = pd.merge(df, onehot_encoded, how = 'inner',  on=['column_merge'])\n",
    "\n",
    "del(data, values, onehot_encoder, integer_encoded)"
   ]
  },
  {
   "cell_type": "code",
   "execution_count": 16,
   "id": "adaefb63",
   "metadata": {},
   "outputs": [
    {
     "name": "stdout",
     "output_type": "stream",
     "text": [
      "[[0. 0. 0. ... 1. 0. 0.]\n",
      " [0. 0. 0. ... 1. 0. 0.]\n",
      " [0. 0. 0. ... 1. 0. 0.]\n",
      " ...\n",
      " [0. 0. 1. ... 0. 0. 0.]\n",
      " [0. 0. 0. ... 0. 0. 1.]\n",
      " [1. 0. 0. ... 0. 0. 0.]]\n"
     ]
    }
   ],
   "source": [
    "# define example\n",
    "data = df['risk_type_original']\n",
    "values = np.array(data)\n",
    "\n",
    "label_encoder = LabelEncoder()\n",
    "integer_encoded = label_encoder.fit_transform(values)\n",
    "\n",
    "onehot_encoder = OneHotEncoder(sparse=False)\n",
    "integer_encoded = integer_encoded.reshape(len(integer_encoded), 1)\n",
    "onehot_encoded = onehot_encoder.fit_transform(integer_encoded)\n",
    "print(onehot_encoded)\n",
    "\n",
    "df['column_merge'] = df.index\n",
    "\n",
    "onehot_encoded = pd.DataFrame(onehot_encoded)\n",
    "\n",
    "onehot_encoded['column_merge'] = onehot_encoded.index\n",
    "\n",
    "onehot_encoded = onehot_encoded.rename(columns={0: 'risk_type_original_0', 1: 'risk_type_original_1', 2: 'risk_type_original_2', 3:'risk_type_original_3',\n",
    "                               4: 'risk_type_original_4', 5: 'risk_type_original_5', 6: 'risk_type_original_6', 7: 'risk_type_original_7', 8: 'risk_type_original_8', 9: 'risk_type_original_9',\n",
    "                               10: 'risk_type_original_10', 11: 'risk_type_original_11', 12: 'risk_type_original_12', 13: 'risk_type_original_13', 14: 'risk_type_original_14',\n",
    "                               15: 'risk_type_original_15', 16: 'risk_type_original_16', 17: 'risk_type_original_17'})\n",
    "\n",
    "df = pd.merge(df, onehot_encoded, how = 'inner',  on=['column_merge'])\n",
    "\n",
    "del(data, values, onehot_encoder, integer_encoded)"
   ]
  },
  {
   "cell_type": "code",
   "execution_count": 17,
   "id": "e83705a7",
   "metadata": {},
   "outputs": [
    {
     "data": {
      "text/plain": [
       "Index(['Unnamed: 0', 'purpose', 'terms', 'interest_rate', 'risk_type_original',\n",
       "       'principal_amount', 'churn', 'company_id', 'disbursed_date', 'age',\n",
       "       'monthly_income', 'monthly_interest_rate', 'principal_amount_final',\n",
       "       'NPV', 'profit', 'column_merge', 'purpose_0', 'purpose_1', 'purpose_2',\n",
       "       'purpose_3', 'purpose_4', 'purpose_5', 'purpose_6', 'purpose_7',\n",
       "       'purpose_8', 'purpose_9', 'purpose_10', 'purpose_11', 'purpose_12',\n",
       "       'purpose_13', 'purpose_14', 'purpose_15', 'purpose_16',\n",
       "       'risk_type_original_0', 'risk_type_original_1', 'risk_type_original_2',\n",
       "       'risk_type_original_3', 'risk_type_original_4', 'risk_type_original_5',\n",
       "       'risk_type_original_6', 'risk_type_original_7', 'risk_type_original_8'],\n",
       "      dtype='object')"
      ]
     },
     "execution_count": 17,
     "metadata": {},
     "output_type": "execute_result"
    }
   ],
   "source": [
    "df.columns"
   ]
  },
  {
   "cell_type": "code",
   "execution_count": 18,
   "id": "b96e97c2",
   "metadata": {},
   "outputs": [],
   "source": [
    "df = df.dropna()"
   ]
  },
  {
   "cell_type": "code",
   "execution_count": 19,
   "id": "9295f7a7",
   "metadata": {},
   "outputs": [],
   "source": [
    "X=df[['interest_rate','principal_amount', 'disbursed_date', 'age', 'monthly_income', 'purpose_0', 'purpose_1', 'purpose_2',\n",
    "       'purpose_3', 'purpose_4', 'purpose_5', 'purpose_6', 'purpose_7',\n",
    "       'purpose_8', 'purpose_9', 'purpose_10', 'purpose_11', 'purpose_12',\n",
    "       'purpose_13', 'purpose_14', 'purpose_15', 'purpose_16',\n",
    "       'risk_type_original_0', 'risk_type_original_1', 'risk_type_original_2',\n",
    "       'risk_type_original_3', 'risk_type_original_4', 'risk_type_original_5',\n",
    "       'risk_type_original_6', 'risk_type_original_7', 'risk_type_original_8']] \n",
    "#PROMO_boxes, lo pongo? mejora la predicción, pero si una clienta no ha tenido nunca promos, aprende que es 0\n",
    "y=df['churn']\n",
    "\n",
    "X_train, X_test, y_train, y_test = train_test_split(X, y, test_size=0.30)"
   ]
  },
  {
   "cell_type": "code",
   "execution_count": 20,
   "id": "84afe329",
   "metadata": {},
   "outputs": [
    {
     "ename": "ValueError",
     "evalue": "Unknown label type: 'continuous'",
     "output_type": "error",
     "traceback": [
      "\u001b[1;31m---------------------------------------------------------------------------\u001b[0m",
      "\u001b[1;31mValueError\u001b[0m                                Traceback (most recent call last)",
      "\u001b[1;32mC:\\Users\\CALVIC~1\\AppData\\Local\\Temp/ipykernel_9600/2311460741.py\u001b[0m in \u001b[0;36m<module>\u001b[1;34m\u001b[0m\n\u001b[0;32m      4\u001b[0m \u001b[1;33m\u001b[0m\u001b[0m\n\u001b[0;32m      5\u001b[0m \u001b[1;33m\u001b[0m\u001b[0m\n\u001b[1;32m----> 6\u001b[1;33m \u001b[0mclf\u001b[0m\u001b[1;33m.\u001b[0m\u001b[0mfit\u001b[0m\u001b[1;33m(\u001b[0m\u001b[0mX_train\u001b[0m\u001b[1;33m,\u001b[0m\u001b[0my_train\u001b[0m\u001b[1;33m)\u001b[0m\u001b[1;33m\u001b[0m\u001b[1;33m\u001b[0m\u001b[0m\n\u001b[0m\u001b[0;32m      7\u001b[0m \u001b[1;33m\u001b[0m\u001b[0m\n\u001b[0;32m      8\u001b[0m \u001b[0my_pred\u001b[0m \u001b[1;33m=\u001b[0m \u001b[0mclf\u001b[0m\u001b[1;33m.\u001b[0m\u001b[0mpredict\u001b[0m\u001b[1;33m(\u001b[0m\u001b[0mX_test\u001b[0m\u001b[1;33m)\u001b[0m\u001b[1;33m\u001b[0m\u001b[1;33m\u001b[0m\u001b[0m\n",
      "\u001b[1;32mc:\\python\\lib\\site-packages\\sklearn\\ensemble\\_forest.py\u001b[0m in \u001b[0;36mfit\u001b[1;34m(self, X, y, sample_weight)\u001b[0m\n\u001b[0;32m    329\u001b[0m         \u001b[0mself\u001b[0m\u001b[1;33m.\u001b[0m\u001b[0mn_outputs_\u001b[0m \u001b[1;33m=\u001b[0m \u001b[0my\u001b[0m\u001b[1;33m.\u001b[0m\u001b[0mshape\u001b[0m\u001b[1;33m[\u001b[0m\u001b[1;36m1\u001b[0m\u001b[1;33m]\u001b[0m\u001b[1;33m\u001b[0m\u001b[1;33m\u001b[0m\u001b[0m\n\u001b[0;32m    330\u001b[0m \u001b[1;33m\u001b[0m\u001b[0m\n\u001b[1;32m--> 331\u001b[1;33m         \u001b[0my\u001b[0m\u001b[1;33m,\u001b[0m \u001b[0mexpanded_class_weight\u001b[0m \u001b[1;33m=\u001b[0m \u001b[0mself\u001b[0m\u001b[1;33m.\u001b[0m\u001b[0m_validate_y_class_weight\u001b[0m\u001b[1;33m(\u001b[0m\u001b[0my\u001b[0m\u001b[1;33m)\u001b[0m\u001b[1;33m\u001b[0m\u001b[1;33m\u001b[0m\u001b[0m\n\u001b[0m\u001b[0;32m    332\u001b[0m \u001b[1;33m\u001b[0m\u001b[0m\n\u001b[0;32m    333\u001b[0m         \u001b[1;32mif\u001b[0m \u001b[0mgetattr\u001b[0m\u001b[1;33m(\u001b[0m\u001b[0my\u001b[0m\u001b[1;33m,\u001b[0m \u001b[1;34m\"dtype\"\u001b[0m\u001b[1;33m,\u001b[0m \u001b[1;32mNone\u001b[0m\u001b[1;33m)\u001b[0m \u001b[1;33m!=\u001b[0m \u001b[0mDOUBLE\u001b[0m \u001b[1;32mor\u001b[0m \u001b[1;32mnot\u001b[0m \u001b[0my\u001b[0m\u001b[1;33m.\u001b[0m\u001b[0mflags\u001b[0m\u001b[1;33m.\u001b[0m\u001b[0mcontiguous\u001b[0m\u001b[1;33m:\u001b[0m\u001b[1;33m\u001b[0m\u001b[1;33m\u001b[0m\u001b[0m\n",
      "\u001b[1;32mc:\\python\\lib\\site-packages\\sklearn\\ensemble\\_forest.py\u001b[0m in \u001b[0;36m_validate_y_class_weight\u001b[1;34m(self, y)\u001b[0m\n\u001b[0;32m    557\u001b[0m \u001b[1;33m\u001b[0m\u001b[0m\n\u001b[0;32m    558\u001b[0m     \u001b[1;32mdef\u001b[0m \u001b[0m_validate_y_class_weight\u001b[0m\u001b[1;33m(\u001b[0m\u001b[0mself\u001b[0m\u001b[1;33m,\u001b[0m \u001b[0my\u001b[0m\u001b[1;33m)\u001b[0m\u001b[1;33m:\u001b[0m\u001b[1;33m\u001b[0m\u001b[1;33m\u001b[0m\u001b[0m\n\u001b[1;32m--> 559\u001b[1;33m         \u001b[0mcheck_classification_targets\u001b[0m\u001b[1;33m(\u001b[0m\u001b[0my\u001b[0m\u001b[1;33m)\u001b[0m\u001b[1;33m\u001b[0m\u001b[1;33m\u001b[0m\u001b[0m\n\u001b[0m\u001b[0;32m    560\u001b[0m \u001b[1;33m\u001b[0m\u001b[0m\n\u001b[0;32m    561\u001b[0m         \u001b[0my\u001b[0m \u001b[1;33m=\u001b[0m \u001b[0mnp\u001b[0m\u001b[1;33m.\u001b[0m\u001b[0mcopy\u001b[0m\u001b[1;33m(\u001b[0m\u001b[0my\u001b[0m\u001b[1;33m)\u001b[0m\u001b[1;33m\u001b[0m\u001b[1;33m\u001b[0m\u001b[0m\n",
      "\u001b[1;32mc:\\python\\lib\\site-packages\\sklearn\\utils\\multiclass.py\u001b[0m in \u001b[0;36mcheck_classification_targets\u001b[1;34m(y)\u001b[0m\n\u001b[0;32m    181\u001b[0m     if y_type not in ['binary', 'multiclass', 'multiclass-multioutput',\n\u001b[0;32m    182\u001b[0m                       'multilabel-indicator', 'multilabel-sequences']:\n\u001b[1;32m--> 183\u001b[1;33m         \u001b[1;32mraise\u001b[0m \u001b[0mValueError\u001b[0m\u001b[1;33m(\u001b[0m\u001b[1;34m\"Unknown label type: %r\"\u001b[0m \u001b[1;33m%\u001b[0m \u001b[0my_type\u001b[0m\u001b[1;33m)\u001b[0m\u001b[1;33m\u001b[0m\u001b[1;33m\u001b[0m\u001b[0m\n\u001b[0m\u001b[0;32m    184\u001b[0m \u001b[1;33m\u001b[0m\u001b[0m\n\u001b[0;32m    185\u001b[0m \u001b[1;33m\u001b[0m\u001b[0m\n",
      "\u001b[1;31mValueError\u001b[0m: Unknown label type: 'continuous'"
     ]
    }
   ],
   "source": [
    "from sklearn.ensemble import RandomForestClassifier\n",
    "\n",
    "clf=RandomForestClassifier(n_estimators=50, random_state=1)\n",
    "\n",
    "\n",
    "clf.fit(X_train,y_train)\n",
    "\n",
    "y_pred = clf.predict(X_test)"
   ]
  },
  {
   "cell_type": "code",
   "execution_count": null,
   "id": "add354b6",
   "metadata": {},
   "outputs": [],
   "source": [
    "from sklearn import metrics\n",
    "# Model Accuracy, how often is the classifier correct?\n",
    "print(\"Accuracy:\",metrics.accuracy_score(y_test, y_pred))\n",
    "print('Mean Absolute Error:', metrics.mean_absolute_error(y_test, y_pred))\n",
    "print('Mean Squared Error:', metrics.mean_squared_error(y_test, y_pred))"
   ]
  },
  {
   "cell_type": "code",
   "execution_count": null,
   "id": "784aa189",
   "metadata": {},
   "outputs": [],
   "source": [
    "# 'interest_rate','principal_amount',"
   ]
  },
  {
   "cell_type": "code",
   "execution_count": null,
   "id": "c2923f32",
   "metadata": {},
   "outputs": [],
   "source": [
    "feature_columns = df[[ 'disbursed_date', 'age', 'monthly_income', 'purpose_0', 'purpose_1', 'purpose_2',\n",
    "       'purpose_3', 'purpose_4', 'purpose_5', 'purpose_6', 'purpose_7',\n",
    "       'purpose_8', 'purpose_9', 'purpose_10', 'purpose_11', 'purpose_12',\n",
    "       'purpose_13', 'purpose_14', 'purpose_15', 'purpose_16',\n",
    "       'risk_type_original_0', 'risk_type_original_1', 'risk_type_original_2',\n",
    "       'risk_type_original_3', 'risk_type_original_4', 'risk_type_original_5',\n",
    "       'risk_type_original_6', 'risk_type_original_7', 'risk_type_original_8']] .columns"
   ]
  },
  {
   "cell_type": "code",
   "execution_count": null,
   "id": "365965f3",
   "metadata": {},
   "outputs": [],
   "source": [
    "feature_imp = pd.Series(clf.feature_importances_,index=\n",
    "                        feature_columns ).sort_values(ascending=False)\n",
    "\n",
    "feature_imp"
   ]
  },
  {
   "cell_type": "code",
   "execution_count": null,
   "id": "7ffab133",
   "metadata": {},
   "outputs": [],
   "source": [
    "import matplotlib.pyplot as plt  \n",
    "from sklearn import datasets, metrics, model_selection, svm\n",
    "\n",
    "metrics.plot_roc_curve(clf, X_test, y_test)"
   ]
  },
  {
   "cell_type": "code",
   "execution_count": null,
   "id": "c7d1df4c",
   "metadata": {},
   "outputs": [],
   "source": [
    "from sklearn.metrics import confusion_matrix\n",
    "\n",
    "confusion_matrix(y_test, y_pred)"
   ]
  }
 ],
 "metadata": {
  "kernelspec": {
   "display_name": "Python 3 (ipykernel)",
   "language": "python",
   "name": "python3"
  },
  "language_info": {
   "codemirror_mode": {
    "name": "ipython",
    "version": 3
   },
   "file_extension": ".py",
   "mimetype": "text/x-python",
   "name": "python",
   "nbconvert_exporter": "python",
   "pygments_lexer": "ipython3",
   "version": "3.9.6"
  }
 },
 "nbformat": 4,
 "nbformat_minor": 5
}
